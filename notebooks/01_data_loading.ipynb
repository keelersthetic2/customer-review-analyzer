# Data Loading and Initial Exploration

## 1.  Introduction
This notebook loads the IMDB dataset and prepares it for analysis.

## 2. Dataset Structure
- Train set: pos/neg reviews
- Test set: pos-neg reviews
- Unsup and .feat files ignored

## 3. Load Reviews
- Read test files into a pandas DataFrame
- Assign labels (pos/neg)
- Add column for split (train/test)

## 4. Preview Data
- Show first few rows of the DataFrame
- Count how many positive/negative reviews

## 5. Save Combined Dataset
- Export to `data/imdb_reviews.csv` for easier reuse

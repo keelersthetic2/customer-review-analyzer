{
 "cells": [
  {
   "cell_type": "markdown",
   "id": "1fd07b03",
   "metadata": {},
   "source": [
    "# Data Loading and Initial Exploration"
   ]
  },
  {
   "cell_type": "markdown",
   "id": "add98d58",
   "metadata": {},
   "source": [
    "## 1. Introduction\n",
    "This notebook loads the IMDB dataset and prepares it for analysis.  \n",
    "We will combine the positive and negative reviews into a single DataFrame for easier processing later."
   ]
  },
  {
   "cell_type": "markdown",
   "id": "34999c21",
   "metadata": {},
   "source": [
    "## 2. Dataset Structure\n",
    "- Train set: `train/pos`, `train/neg`\n",
    "- Test set: `test/pos`, `test/neg`\n",
    "- Ignore `unsup/` and `.feat` files for this project."
   ]
  },
  {
   "cell_type": "markdown",
   "id": "35603f4c",
   "metadata": {},
   "source": [
    "## 3. Load Reviews\n",
    "We will:\n",
    "- Read text files into a pandas DataFrame\n",
    "- Assign labels (`pos` or `neg`)\n",
    "- Add a column for split (`train` or `test`)"
   ]
  },
  {
   "cell_type": "markdown",
   "id": "db92f795",
   "metadata": {},
   "source": [
    "## 4. Preview Data\n",
    "We will:\n",
    "- Show the first few rows of the DataFrame\n",
    "- Count how many positive and negative reviews exist"
   ]
  },
  {
   "cell_type": "markdown",
   "id": "14580286",
   "metadata": {},
   "source": [
    "\n",
    "## 5. Save Combined Dataset\n",
    "We will save the combined dataset to `data/imdb_reviews.csv` for reuse."
   ]
  },
  {
   "cell_type": "markdown",
   "id": "18cfc2ee",
   "metadata": {},
   "source": [
    "### Path to train dataset\n",
    "\n",
    "- ../data/aclImdb/train/pos\n",
    "- ../data/aclImdb/train/neg\n",
    "- There are 12,500 files in the pos and 12,500 files in the neg"
   ]
  },
  {
   "cell_type": "markdown",
   "id": "f8824d87",
   "metadata": {},
   "source": [
    "### Path to test dataset\n",
    "\n",
    "- ../data/aclImdb/train/pos\n",
    "- ../data/aclImdb/train/neg\n",
    "- There are 12,500 files in the pos and 12,500 files in the neg"
   ]
  },
  {
   "cell_type": "code",
   "execution_count": 4,
   "id": "8d1958c5",
   "metadata": {},
   "outputs": [
    {
     "name": "stdout",
     "output_type": "stream",
     "text": [
      "Train pos/neg text review:\n",
      "Pos: Bromwell High is a cartoon comedy. It ran at the same time as some other programs about school life, such as \"Teachers\". My 35 years in the teaching p...\n",
      "Neg: Story of a man who has unnatural feelings for a pig. Starts out with a opening scene that is a terrific example of absurd comedy. A formal orchestra a...\n",
      "\n",
      "Test pos/neg text review:\n",
      "Pos: I went and saw this movie last night after being coaxed to by a few friends of mine. I'll admit that I was reluctant to see it because from what I kne...\n",
      "Neg: Once again Mr. Costner has dragged out a movie for far longer than necessary. Aside from the terrific sea rescue sequences, of which there are very fe...\n"
     ]
    }
   ],
   "source": [
    "print(\"Train pos/neg text review:\")\n",
    "with open(\"../data/aclImdb/train/pos/0_9.txt\", encoding=\"utf-8\") as f:\n",
    "    train_text_review_pos = f.read()\n",
    "print(\"Pos: \"+train_text_review_pos[:150]+\"...\")\n",
    "\n",
    "with open(\"../data/aclImdb/train/neg/0_3.txt\", encoding=\"utf-8\") as f:\n",
    "    train_text_review_neg = f.read()\n",
    "print(\"Neg: \"+train_text_review_neg[:150]+\"...\")\n",
    "\n",
    "print(\"\\nTest pos/neg text review:\")\n",
    "with open(\"../data/aclImdb/test/pos/0_10.txt\", encoding=\"utf-8\") as f:\n",
    "    test_text_review_pos = f.read()\n",
    "print(\"Pos: \"+test_text_review_pos[:150]+\"...\")\n",
    "\n",
    "with open(\"../data/aclImdb/test/neg/0_2.txt\", encoding=\"utf-8\") as f:\n",
    "    test_text_review_neg = f.read()\n",
    "print(\"Neg: \"+test_text_review_neg[:150]+\"...\")"
   ]
  },
  {
   "cell_type": "markdown",
   "id": "a3995acd",
   "metadata": {},
   "source": [
    "- Text is plain english with varied lengths from the above observation"
   ]
  },
  {
   "cell_type": "markdown",
   "id": "b7557968",
   "metadata": {},
   "source": [
    "## Put the Data into a DataFrame"
   ]
  },
  {
   "cell_type": "code",
   "execution_count": 5,
   "id": "0d536df8",
   "metadata": {},
   "outputs": [
    {
     "data": {
      "text/plain": [
       "'2.3.2'"
      ]
     },
     "execution_count": 5,
     "metadata": {},
     "output_type": "execute_result"
    }
   ],
   "source": [
    "# Import\n",
    "import os\n",
    "import pandas as pd\n",
    "pd.__version__"
   ]
  },
  {
   "cell_type": "code",
   "execution_count": null,
   "id": "81c9454d",
   "metadata": {},
   "outputs": [],
   "source": [
    "# Make a list of tuples that have the path, and then the label and the split\n",
    "base = \"../data/aclImdb\"\n",
    "\n",
    "folders = [\n",
    "    (os.path.join(base, \"train\", \"pos\"), \"pos\", \"train\"),\n",
    "    (os.path.join(base, \"train\", \"neg\"), \"neg\", \"train\"),\n",
    "    (os.path.join(base, \"test\", \"pos\"), \"pos\", \"test\"),\n",
    "    (os.path.join(base, \"test\", \"neg\"), \"neg\", \"test\"),\n",
    "]"
   ]
  },
  {
   "cell_type": "code",
   "execution_count": null,
   "id": "17c943cc",
   "metadata": {},
   "outputs": [],
   "source": [
    "# Make a list of the reviews (path), the labels, and the splits\n",
    "all_reviews = []\n",
    "\n",
    "for folder_path, label, split in folders:\n",
    "    for fname in os.listdir(folder_path):\n",
    "        if not fname.endswith('.txt'):\n",
    "            continue\n",
    "        fpath = os.path.join(folder_path, fname)\n",
    "        with open(fpath, encoding=\"utf-8\") as f:\n",
    "            text = f.read()\n",
    "        all_reviews.append({\"review\": text, \"label\": label, \"split\": split})"
   ]
  },
  {
   "cell_type": "code",
   "execution_count": null,
   "id": "707bc2c7",
   "metadata": {},
   "outputs": [
    {
     "data": {
      "text/html": [
       "<div>\n",
       "<style scoped>\n",
       "    .dataframe tbody tr th:only-of-type {\n",
       "        vertical-align: middle;\n",
       "    }\n",
       "\n",
       "    .dataframe tbody tr th {\n",
       "        vertical-align: top;\n",
       "    }\n",
       "\n",
       "    .dataframe thead th {\n",
       "        text-align: right;\n",
       "    }\n",
       "</style>\n",
       "<table border=\"1\" class=\"dataframe\">\n",
       "  <thead>\n",
       "    <tr style=\"text-align: right;\">\n",
       "      <th></th>\n",
       "      <th>review</th>\n",
       "      <th>label</th>\n",
       "      <th>split</th>\n",
       "    </tr>\n",
       "  </thead>\n",
       "  <tbody>\n",
       "    <tr>\n",
       "      <th>0</th>\n",
       "      <td>Bromwell High is a cartoon comedy. It ran at t...</td>\n",
       "      <td>pos</td>\n",
       "      <td>train</td>\n",
       "    </tr>\n",
       "    <tr>\n",
       "      <th>1</th>\n",
       "      <td>Homelessness (or Houselessness as George Carli...</td>\n",
       "      <td>pos</td>\n",
       "      <td>train</td>\n",
       "    </tr>\n",
       "    <tr>\n",
       "      <th>2</th>\n",
       "      <td>Brilliant over-acting by Lesley Ann Warren. Be...</td>\n",
       "      <td>pos</td>\n",
       "      <td>train</td>\n",
       "    </tr>\n",
       "    <tr>\n",
       "      <th>3</th>\n",
       "      <td>This is easily the most underrated film inn th...</td>\n",
       "      <td>pos</td>\n",
       "      <td>train</td>\n",
       "    </tr>\n",
       "    <tr>\n",
       "      <th>4</th>\n",
       "      <td>This is not the typical Mel Brooks film. It wa...</td>\n",
       "      <td>pos</td>\n",
       "      <td>train</td>\n",
       "    </tr>\n",
       "  </tbody>\n",
       "</table>\n",
       "</div>"
      ],
      "text/plain": [
       "                                              review label  split\n",
       "0  Bromwell High is a cartoon comedy. It ran at t...   pos  train\n",
       "1  Homelessness (or Houselessness as George Carli...   pos  train\n",
       "2  Brilliant over-acting by Lesley Ann Warren. Be...   pos  train\n",
       "3  This is easily the most underrated film inn th...   pos  train\n",
       "4  This is not the typical Mel Brooks film. It wa...   pos  train"
      ]
     },
     "execution_count": 25,
     "metadata": {},
     "output_type": "execute_result"
    }
   ],
   "source": [
    "# Make the above list into a data frame with 3 columns\n",
    "df = pd.DataFrame(all_reviews, columns=['review', 'label', 'split'])\n",
    "df.head()"
   ]
  },
  {
   "cell_type": "code",
   "execution_count": null,
   "id": "e3fe5e1a",
   "metadata": {},
   "outputs": [
    {
     "data": {
      "text/plain": [
       "(50000,\n",
       " label\n",
       " pos    25000\n",
       " neg    25000\n",
       " Name: count, dtype: int64,\n",
       " split\n",
       " train    25000\n",
       " test     25000\n",
       " Name: count, dtype: int64)"
      ]
     },
     "execution_count": 26,
     "metadata": {},
     "output_type": "execute_result"
    }
   ],
   "source": [
    "len(df), df[\"label\"].value_counts(), df[\"split\"].value_counts()"
   ]
  },
  {
   "cell_type": "code",
   "execution_count": null,
   "id": "79158c0e",
   "metadata": {},
   "outputs": [],
   "source": [
    "# save to the folder\n",
    "df.to_csv(\"../data/imdb_reviews.csv\", index=False)"
   ]
  },
  {
   "cell_type": "code",
   "execution_count": null,
   "id": "001fae60",
   "metadata": {},
   "outputs": [
    {
     "name": "stdout",
     "output_type": "stream",
     "text": [
      "The minimum review length is 32 characters.\n",
      "The maximum review length is 13704 characters.\n",
      "The mean review length is 1309.43 characters.\n",
      "The median review length is 970.0 characters.\n"
     ]
    }
   ],
   "source": [
    "# Compute min, max, mean, and median review lengths (with label and split)\n",
    "\n",
    "review_lengths = df['review'].apply(len)\n",
    "\n",
    "min_review_length = review_lengths.min()\n",
    "max_review_length = review_lengths.max()\n",
    "mean_review_length = review_lengths.mean()\n",
    "median_review_length = review_lengths.median()\n",
    "\n",
    "print(f\"The minimum review length is {min_review_length} characters.\")\n",
    "print(f\"The maximum review length is {max_review_length} characters.\")\n",
    "print(f\"The mean review length is {mean_review_length:.2f} characters.\")\n",
    "print(f\"The median review length is {median_review_length} characters.\")"
   ]
  },
  {
   "cell_type": "markdown",
   "id": "fa9f6744",
   "metadata": {},
   "source": [
    "### Review Length Analysis\n",
    "- Reviews range from 32 characters to 13,704 characters.\n",
    "- The mean review length is about 1,309 characters, and the median review length is about 970 characters.\n",
    "- This seems to show that the length of review data is skewed, with a relatively small number of very long reviews raising the average."
   ]
  }
 ],
 "metadata": {
  "kernelspec": {
   "display_name": "Python 3",
   "language": "python",
   "name": "python3"
  },
  "language_info": {
   "codemirror_mode": {
    "name": "ipython",
    "version": 3
   },
   "file_extension": ".py",
   "mimetype": "text/x-python",
   "name": "python",
   "nbconvert_exporter": "python",
   "pygments_lexer": "ipython3",
   "version": "3.11.9"
  }
 },
 "nbformat": 4,
 "nbformat_minor": 5
}

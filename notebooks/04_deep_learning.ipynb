{
 "cells": [
  {
   "cell_type": "code",
   "execution_count": 6,
   "id": "7e4e6488",
   "metadata": {},
   "outputs": [],
   "source": [
    "# Imports\n",
    "import pandas as pd\n",
    "import tensorflow as tf\n",
    "from tensorflow.keras.preprocessing.text import Tokenizer\n",
    "from tensorflow.keras.preprocessing.sequence import pad_sequences\n",
    "from sklearn.model_selection import train_test_split\n",
    "from tensorflow.keras import layers, models, callbacks, optimizers\n",
    "import time\n",
    "import matplotlib.pyplot as plt\n",
    "from sklearn.metrics import classification_report, confusion_matrix, accuracy_score, precision_recall_fscore_support\n",
    "import seaborn as sns\n",
    "import numpy as np\n",
    "\n",
    "# Hugging Face Imports\n",
    "from datasets import Dataset\n",
    "from transformers import AutoTokenizer, DataCollatorWithPadding, AutoModelForSequenceClassification, TrainingArguments, Trainer\n",
    "import torch"
   ]
  },
  {
   "cell_type": "code",
   "execution_count": 7,
   "id": "29049658",
   "metadata": {},
   "outputs": [
    {
     "name": "stdout",
     "output_type": "stream",
     "text": [
      "CUDA available: True\n",
      "Device: NVIDIA GeForce RTX 4070 SUPER\n"
     ]
    }
   ],
   "source": [
    "# Check if my GPU is useable\n",
    "print(\"CUDA available:\", torch.cuda.is_available())\n",
    "if torch.cuda.is_available():\n",
    "    print(\"Device:\", torch.cuda.get_device_name(0))"
   ]
  },
  {
   "cell_type": "code",
   "execution_count": 8,
   "id": "6c49a1de",
   "metadata": {},
   "outputs": [
    {
     "name": "stdout",
     "output_type": "stream",
     "text": [
      "(50000, 5)\n"
     ]
    },
    {
     "data": {
      "text/html": [
       "<div>\n",
       "<style scoped>\n",
       "    .dataframe tbody tr th:only-of-type {\n",
       "        vertical-align: middle;\n",
       "    }\n",
       "\n",
       "    .dataframe tbody tr th {\n",
       "        vertical-align: top;\n",
       "    }\n",
       "\n",
       "    .dataframe thead th {\n",
       "        text-align: right;\n",
       "    }\n",
       "</style>\n",
       "<table border=\"1\" class=\"dataframe\">\n",
       "  <thead>\n",
       "    <tr style=\"text-align: right;\">\n",
       "      <th></th>\n",
       "      <th>review</th>\n",
       "      <th>label</th>\n",
       "      <th>split</th>\n",
       "      <th>word_count</th>\n",
       "      <th>tokens</th>\n",
       "    </tr>\n",
       "  </thead>\n",
       "  <tbody>\n",
       "    <tr>\n",
       "      <th>0</th>\n",
       "      <td>bromwell high is a cartoon comedy. it ran at t...</td>\n",
       "      <td>pos</td>\n",
       "      <td>train</td>\n",
       "      <td>140</td>\n",
       "      <td>['bromwell', 'high', 'is', 'a', 'cartoon', 'co...</td>\n",
       "    </tr>\n",
       "    <tr>\n",
       "      <th>1</th>\n",
       "      <td>homelessness (or houselessness as george carli...</td>\n",
       "      <td>pos</td>\n",
       "      <td>train</td>\n",
       "      <td>420</td>\n",
       "      <td>['homelessness', '(or', 'houselessness', 'as',...</td>\n",
       "    </tr>\n",
       "    <tr>\n",
       "      <th>2</th>\n",
       "      <td>brilliant over-acting by lesley ann warren. be...</td>\n",
       "      <td>pos</td>\n",
       "      <td>train</td>\n",
       "      <td>147</td>\n",
       "      <td>['brilliant', 'over-acting', 'by', 'lesley', '...</td>\n",
       "    </tr>\n",
       "    <tr>\n",
       "      <th>3</th>\n",
       "      <td>this is easily the most underrated film inn th...</td>\n",
       "      <td>pos</td>\n",
       "      <td>train</td>\n",
       "      <td>124</td>\n",
       "      <td>['this', 'is', 'easily', 'the', 'most', 'under...</td>\n",
       "    </tr>\n",
       "    <tr>\n",
       "      <th>4</th>\n",
       "      <td>this is not the typical mel brooks film. it wa...</td>\n",
       "      <td>pos</td>\n",
       "      <td>train</td>\n",
       "      <td>120</td>\n",
       "      <td>['this', 'is', 'not', 'the', 'typical', 'mel',...</td>\n",
       "    </tr>\n",
       "  </tbody>\n",
       "</table>\n",
       "</div>"
      ],
      "text/plain": [
       "                                              review label  split  word_count  \\\n",
       "0  bromwell high is a cartoon comedy. it ran at t...   pos  train         140   \n",
       "1  homelessness (or houselessness as george carli...   pos  train         420   \n",
       "2  brilliant over-acting by lesley ann warren. be...   pos  train         147   \n",
       "3  this is easily the most underrated film inn th...   pos  train         124   \n",
       "4  this is not the typical mel brooks film. it wa...   pos  train         120   \n",
       "\n",
       "                                              tokens  \n",
       "0  ['bromwell', 'high', 'is', 'a', 'cartoon', 'co...  \n",
       "1  ['homelessness', '(or', 'houselessness', 'as',...  \n",
       "2  ['brilliant', 'over-acting', 'by', 'lesley', '...  \n",
       "3  ['this', 'is', 'easily', 'the', 'most', 'under...  \n",
       "4  ['this', 'is', 'not', 'the', 'typical', 'mel',...  "
      ]
     },
     "execution_count": 8,
     "metadata": {},
     "output_type": "execute_result"
    }
   ],
   "source": [
    "# Load the cleaned dataset\n",
    "df = pd.read_csv(\"../data/imdb_reviews_clean.csv\")\n",
    "print(df.shape)\n",
    "df.head()"
   ]
  },
  {
   "cell_type": "code",
   "execution_count": 9,
   "id": "b289b774",
   "metadata": {},
   "outputs": [
    {
     "name": "stdout",
     "output_type": "stream",
     "text": [
      "(25000, 5)\n",
      "(25000, 5)\n",
      "y_train val count: label\n",
      "pos    12500\n",
      "neg    12500\n",
      "Name: count, dtype: int64\n",
      "y_test val count: label\n",
      "pos    12500\n",
      "neg    12500\n",
      "Name: count, dtype: int64\n"
     ]
    }
   ],
   "source": [
    "# Split the data into the training and test sets\n",
    "training_set = df[df['split'] == 'train']\n",
    "testing_set = df[df['split'] == 'test']\n",
    "\n",
    "print(training_set.shape)\n",
    "print(testing_set.shape)\n",
    "\n",
    "X_train = training_set['review']\n",
    "y_train = training_set['label']\n",
    "X_test = testing_set['review']\n",
    "y_test = testing_set['label']\n",
    "\n",
    "print(f\"y_train val count: {y_train.value_counts()}\")\n",
    "print(f\"y_test val count: {y_test.value_counts()}\")"
   ]
  },
  {
   "cell_type": "markdown",
   "id": "daf7c38a",
   "metadata": {},
   "source": [
    "# Experiment 1: CNN Baseline"
   ]
  },
  {
   "cell_type": "code",
   "execution_count": 10,
   "id": "d9eaf874",
   "metadata": {},
   "outputs": [],
   "source": [
    "# Tokenize the Text\n",
    "vocab_size = 20000 # keeps the top 20k words\n",
    "max_len = 200 # cut/pad reviews to 200 words\n",
    "oov_token = \"<OOV>\"\n",
    "\n",
    "tokenizer = Tokenizer(num_words=vocab_size, lower=True, oov_token=oov_token)\n",
    "tokenizer.fit_on_texts(X_train)"
   ]
  },
  {
   "cell_type": "code",
   "execution_count": 11,
   "id": "1e7f99a1",
   "metadata": {},
   "outputs": [],
   "source": [
    "# Convert text into int sequences and pad them\n",
    "X_train_seq = tokenizer.texts_to_sequences(X_train)\n",
    "X_test_seq = tokenizer.texts_to_sequences(X_test)\n",
    "\n",
    "X_train_pad = pad_sequences(X_train_seq, maxlen=max_len, padding=\"post\", truncating=\"post\")\n",
    "X_test_pad = pad_sequences(X_test_seq, maxlen=max_len, padding=\"post\", truncating=\"post\")"
   ]
  },
  {
   "cell_type": "code",
   "execution_count": 12,
   "id": "00cf9694",
   "metadata": {},
   "outputs": [],
   "source": [
    "# Make the neg labels = 0 and pos labels = 1\n",
    "y_map = {\"neg\": 0, \"pos\": 1}\n",
    "\n",
    "ytr = y_train.map(y_map).values\n",
    "yte = y_test.map(y_map).values"
   ]
  },
  {
   "cell_type": "code",
   "execution_count": 13,
   "id": "3b010d51",
   "metadata": {},
   "outputs": [],
   "source": [
    "# validation split from TRAIN only\n",
    "X_train_pad, X_val_pad, ytr, yval = train_test_split(X_train_pad, ytr, test_size=0.10, stratify=ytr, random_state=42)"
   ]
  },
  {
   "cell_type": "code",
   "execution_count": 14,
   "id": "f5e6f8b8",
   "metadata": {},
   "outputs": [
    {
     "name": "stdout",
     "output_type": "stream",
     "text": [
      "(22500, 200)\n",
      "(2500, 200)\n",
      "(25000, 200)\n"
     ]
    }
   ],
   "source": [
    "print(X_train_pad.shape)\n",
    "print(X_val_pad.shape)\n",
    "print(X_test_pad.shape)"
   ]
  },
  {
   "cell_type": "code",
   "execution_count": 15,
   "id": "217c7a4b",
   "metadata": {},
   "outputs": [
    {
     "name": "stderr",
     "output_type": "stream",
     "text": [
      "c:\\Users\\keele\\AppData\\Local\\Programs\\Python\\Python311\\Lib\\site-packages\\keras\\src\\layers\\core\\embedding.py:97: UserWarning: Argument `input_length` is deprecated. Just remove it.\n",
      "  warnings.warn(\n"
     ]
    },
    {
     "data": {
      "text/html": [
       "<pre style=\"white-space:pre;overflow-x:auto;line-height:normal;font-family:Menlo,'DejaVu Sans Mono',consolas,'Courier New',monospace\"><span style=\"font-weight: bold\">Model: \"sequential\"</span>\n",
       "</pre>\n"
      ],
      "text/plain": [
       "\u001b[1mModel: \"sequential\"\u001b[0m\n"
      ]
     },
     "metadata": {},
     "output_type": "display_data"
    },
    {
     "data": {
      "text/html": [
       "<pre style=\"white-space:pre;overflow-x:auto;line-height:normal;font-family:Menlo,'DejaVu Sans Mono',consolas,'Courier New',monospace\">┏━━━━━━━━━━━━━━━━━━━━━━━━━━━━━━━━━┳━━━━━━━━━━━━━━━━━━━━━━━━┳━━━━━━━━━━━━━━━┓\n",
       "┃<span style=\"font-weight: bold\"> Layer (type)                    </span>┃<span style=\"font-weight: bold\"> Output Shape           </span>┃<span style=\"font-weight: bold\">       Param # </span>┃\n",
       "┡━━━━━━━━━━━━━━━━━━━━━━━━━━━━━━━━━╇━━━━━━━━━━━━━━━━━━━━━━━━╇━━━━━━━━━━━━━━━┩\n",
       "│ embedding (<span style=\"color: #0087ff; text-decoration-color: #0087ff\">Embedding</span>)           │ ?                      │   <span style=\"color: #00af00; text-decoration-color: #00af00\">0</span> (unbuilt) │\n",
       "├─────────────────────────────────┼────────────────────────┼───────────────┤\n",
       "│ conv1d (<span style=\"color: #0087ff; text-decoration-color: #0087ff\">Conv1D</span>)                 │ ?                      │   <span style=\"color: #00af00; text-decoration-color: #00af00\">0</span> (unbuilt) │\n",
       "├─────────────────────────────────┼────────────────────────┼───────────────┤\n",
       "│ global_max_pooling1d            │ ?                      │             <span style=\"color: #00af00; text-decoration-color: #00af00\">0</span> │\n",
       "│ (<span style=\"color: #0087ff; text-decoration-color: #0087ff\">GlobalMaxPooling1D</span>)            │                        │               │\n",
       "├─────────────────────────────────┼────────────────────────┼───────────────┤\n",
       "│ dropout (<span style=\"color: #0087ff; text-decoration-color: #0087ff\">Dropout</span>)               │ ?                      │             <span style=\"color: #00af00; text-decoration-color: #00af00\">0</span> │\n",
       "├─────────────────────────────────┼────────────────────────┼───────────────┤\n",
       "│ dense (<span style=\"color: #0087ff; text-decoration-color: #0087ff\">Dense</span>)                   │ ?                      │   <span style=\"color: #00af00; text-decoration-color: #00af00\">0</span> (unbuilt) │\n",
       "├─────────────────────────────────┼────────────────────────┼───────────────┤\n",
       "│ dropout_1 (<span style=\"color: #0087ff; text-decoration-color: #0087ff\">Dropout</span>)             │ ?                      │             <span style=\"color: #00af00; text-decoration-color: #00af00\">0</span> │\n",
       "├─────────────────────────────────┼────────────────────────┼───────────────┤\n",
       "│ dense_1 (<span style=\"color: #0087ff; text-decoration-color: #0087ff\">Dense</span>)                 │ ?                      │   <span style=\"color: #00af00; text-decoration-color: #00af00\">0</span> (unbuilt) │\n",
       "└─────────────────────────────────┴────────────────────────┴───────────────┘\n",
       "</pre>\n"
      ],
      "text/plain": [
       "┏━━━━━━━━━━━━━━━━━━━━━━━━━━━━━━━━━┳━━━━━━━━━━━━━━━━━━━━━━━━┳━━━━━━━━━━━━━━━┓\n",
       "┃\u001b[1m \u001b[0m\u001b[1mLayer (type)                   \u001b[0m\u001b[1m \u001b[0m┃\u001b[1m \u001b[0m\u001b[1mOutput Shape          \u001b[0m\u001b[1m \u001b[0m┃\u001b[1m \u001b[0m\u001b[1m      Param #\u001b[0m\u001b[1m \u001b[0m┃\n",
       "┡━━━━━━━━━━━━━━━━━━━━━━━━━━━━━━━━━╇━━━━━━━━━━━━━━━━━━━━━━━━╇━━━━━━━━━━━━━━━┩\n",
       "│ embedding (\u001b[38;5;33mEmbedding\u001b[0m)           │ ?                      │   \u001b[38;5;34m0\u001b[0m (unbuilt) │\n",
       "├─────────────────────────────────┼────────────────────────┼───────────────┤\n",
       "│ conv1d (\u001b[38;5;33mConv1D\u001b[0m)                 │ ?                      │   \u001b[38;5;34m0\u001b[0m (unbuilt) │\n",
       "├─────────────────────────────────┼────────────────────────┼───────────────┤\n",
       "│ global_max_pooling1d            │ ?                      │             \u001b[38;5;34m0\u001b[0m │\n",
       "│ (\u001b[38;5;33mGlobalMaxPooling1D\u001b[0m)            │                        │               │\n",
       "├─────────────────────────────────┼────────────────────────┼───────────────┤\n",
       "│ dropout (\u001b[38;5;33mDropout\u001b[0m)               │ ?                      │             \u001b[38;5;34m0\u001b[0m │\n",
       "├─────────────────────────────────┼────────────────────────┼───────────────┤\n",
       "│ dense (\u001b[38;5;33mDense\u001b[0m)                   │ ?                      │   \u001b[38;5;34m0\u001b[0m (unbuilt) │\n",
       "├─────────────────────────────────┼────────────────────────┼───────────────┤\n",
       "│ dropout_1 (\u001b[38;5;33mDropout\u001b[0m)             │ ?                      │             \u001b[38;5;34m0\u001b[0m │\n",
       "├─────────────────────────────────┼────────────────────────┼───────────────┤\n",
       "│ dense_1 (\u001b[38;5;33mDense\u001b[0m)                 │ ?                      │   \u001b[38;5;34m0\u001b[0m (unbuilt) │\n",
       "└─────────────────────────────────┴────────────────────────┴───────────────┘\n"
      ]
     },
     "metadata": {},
     "output_type": "display_data"
    },
    {
     "data": {
      "text/html": [
       "<pre style=\"white-space:pre;overflow-x:auto;line-height:normal;font-family:Menlo,'DejaVu Sans Mono',consolas,'Courier New',monospace\"><span style=\"font-weight: bold\"> Total params: </span><span style=\"color: #00af00; text-decoration-color: #00af00\">0</span> (0.00 B)\n",
       "</pre>\n"
      ],
      "text/plain": [
       "\u001b[1m Total params: \u001b[0m\u001b[38;5;34m0\u001b[0m (0.00 B)\n"
      ]
     },
     "metadata": {},
     "output_type": "display_data"
    },
    {
     "data": {
      "text/html": [
       "<pre style=\"white-space:pre;overflow-x:auto;line-height:normal;font-family:Menlo,'DejaVu Sans Mono',consolas,'Courier New',monospace\"><span style=\"font-weight: bold\"> Trainable params: </span><span style=\"color: #00af00; text-decoration-color: #00af00\">0</span> (0.00 B)\n",
       "</pre>\n"
      ],
      "text/plain": [
       "\u001b[1m Trainable params: \u001b[0m\u001b[38;5;34m0\u001b[0m (0.00 B)\n"
      ]
     },
     "metadata": {},
     "output_type": "display_data"
    },
    {
     "data": {
      "text/html": [
       "<pre style=\"white-space:pre;overflow-x:auto;line-height:normal;font-family:Menlo,'DejaVu Sans Mono',consolas,'Courier New',monospace\"><span style=\"font-weight: bold\"> Non-trainable params: </span><span style=\"color: #00af00; text-decoration-color: #00af00\">0</span> (0.00 B)\n",
       "</pre>\n"
      ],
      "text/plain": [
       "\u001b[1m Non-trainable params: \u001b[0m\u001b[38;5;34m0\u001b[0m (0.00 B)\n"
      ]
     },
     "metadata": {},
     "output_type": "display_data"
    }
   ],
   "source": [
    "# Now define and compile a CNN\n",
    "\n",
    "embed_dim = 128\n",
    "\n",
    "model = models.Sequential([\n",
    "    layers.Embedding(input_dim=vocab_size, output_dim=embed_dim, input_length=max_len),\n",
    "    layers.Conv1D(filters=128, kernel_size=5, activation='relu'),\n",
    "    layers.GlobalMaxPooling1D(),\n",
    "    layers.Dropout(0.5),\n",
    "    layers.Dense(64, activation='relu'),\n",
    "    layers.Dropout(0.5),\n",
    "    layers.Dense(1, activation='sigmoid')\n",
    "])\n",
    "\n",
    "model.compile(\n",
    "    optimizer=optimizers.Adam(learning_rate=1e-3),\n",
    "    loss=\"binary_crossentropy\",\n",
    "    metrics=[\"accuracy\"]\n",
    ")\n",
    "\n",
    "model.summary()"
   ]
  },
  {
   "cell_type": "code",
   "execution_count": 16,
   "id": "928ae987",
   "metadata": {},
   "outputs": [
    {
     "name": "stdout",
     "output_type": "stream",
     "text": [
      "Epoch 1/12\n",
      "\u001b[1m176/176\u001b[0m \u001b[32m━━━━━━━━━━━━━━━━━━━━\u001b[0m\u001b[37m\u001b[0m \u001b[1m4s\u001b[0m 16ms/step - accuracy: 0.6164 - loss: 0.6354 - val_accuracy: 0.7652 - val_loss: 0.4825\n",
      "Epoch 2/12\n",
      "\u001b[1m176/176\u001b[0m \u001b[32m━━━━━━━━━━━━━━━━━━━━\u001b[0m\u001b[37m\u001b[0m \u001b[1m3s\u001b[0m 15ms/step - accuracy: 0.8266 - loss: 0.3965 - val_accuracy: 0.8436 - val_loss: 0.3638\n",
      "Epoch 3/12\n",
      "\u001b[1m176/176\u001b[0m \u001b[32m━━━━━━━━━━━━━━━━━━━━\u001b[0m\u001b[37m\u001b[0m \u001b[1m3s\u001b[0m 16ms/step - accuracy: 0.9077 - loss: 0.2473 - val_accuracy: 0.8544 - val_loss: 0.3575\n",
      "Epoch 4/12\n",
      "\u001b[1m176/176\u001b[0m \u001b[32m━━━━━━━━━━━━━━━━━━━━\u001b[0m\u001b[37m\u001b[0m \u001b[1m3s\u001b[0m 17ms/step - accuracy: 0.9567 - loss: 0.1309 - val_accuracy: 0.8604 - val_loss: 0.4243\n",
      "Epoch 5/12\n",
      "\u001b[1m176/176\u001b[0m \u001b[32m━━━━━━━━━━━━━━━━━━━━\u001b[0m\u001b[37m\u001b[0m \u001b[1m3s\u001b[0m 17ms/step - accuracy: 0.9766 - loss: 0.0747 - val_accuracy: 0.8560 - val_loss: 0.4847\n",
      "Epoch 6/12\n",
      "\u001b[1m176/176\u001b[0m \u001b[32m━━━━━━━━━━━━━━━━━━━━\u001b[0m\u001b[37m\u001b[0m \u001b[1m3s\u001b[0m 18ms/step - accuracy: 0.9884 - loss: 0.0400 - val_accuracy: 0.8380 - val_loss: 0.6215\n",
      "Total training time: 18.47 seconds.\n"
     ]
    }
   ],
   "source": [
    "# Train with early stopping and best weights\n",
    "\n",
    "es = callbacks.EarlyStopping(monitor=\"val_loss\", patience=3, restore_best_weights=True)\n",
    "ckpt = callbacks.ModelCheckpoint(\"../models/cnn_baseline.keras\", monitor=\"val_loss\", save_best_only=True)\n",
    "\n",
    "# Time the model fit\n",
    "\n",
    "start_timer = time.time()\n",
    "\n",
    "history = model.fit(X_train_pad, ytr, validation_data=(X_val_pad, yval), epochs=12, batch_size=128, callbacks=[es, ckpt], verbose=1)\n",
    "\n",
    "end_timer = time.time()\n",
    "print(f\"Total training time: {(end_timer-start_timer):.2f} seconds.\")"
   ]
  },
  {
   "cell_type": "code",
   "execution_count": 17,
   "id": "69190294",
   "metadata": {},
   "outputs": [
    {
     "data": {
      "image/png": "[encoded data removed]",
      "text/plain": [
       "<Figure size 640x480 with 1 Axes>"
      ]
     },
     "metadata": {},
     "output_type": "display_data"
    }
   ],
   "source": [
    "# Plotting the learning curves for a sanity check\n",
    "\n",
    "plt.figure()\n",
    "plt.plot(history.history[\"loss\"], label=\"train_loss\")\n",
    "plt.plot(history.history[\"val_loss\"], label=\"val_loss\")\n",
    "plt.xlabel(\"Epoch\"); plt.ylabel(\"Loss\"); plt.title(\"CNN Learning Curves\"); plt.legend(); plt.show()"
   ]
  },
  {
   "cell_type": "code",
   "execution_count": 18,
   "id": "98a6a9de",
   "metadata": {},
   "outputs": [
    {
     "name": "stdout",
     "output_type": "stream",
     "text": [
      "Test accuracy: 84.97%\n",
      "              precision    recall  f1-score   support\n",
      "\n",
      "         neg       0.85      0.84      0.85     12500\n",
      "         pos       0.85      0.86      0.85     12500\n",
      "\n",
      "    accuracy                           0.85     25000\n",
      "   macro avg       0.85      0.85      0.85     25000\n",
      "weighted avg       0.85      0.85      0.85     25000\n",
      "\n"
     ]
    },
    {
     "data": {
      "image/png": "[encoded data removed]",
      "text/plain": [
       "<Figure size 600x400 with 2 Axes>"
      ]
     },
     "metadata": {},
     "output_type": "display_data"
    }
   ],
   "source": [
    "# Test Eval\n",
    "\n",
    "test_loss, test_acc = model.evaluate(X_test_pad, yte, verbose=0)\n",
    "print(f\"Test accuracy: {test_acc*100:.2f}%\")\n",
    "\n",
    "y_prob = model.predict(X_test_pad, verbose=0).ravel()\n",
    "y_pred = (y_prob >= 0.50).astype(int)\n",
    "\n",
    "# Classification report\n",
    "print(classification_report(yte, y_pred, target_names=[\"neg\", \"pos\"]))\n",
    "\n",
    "# Confusion Matrix\n",
    "cm = confusion_matrix(yte, y_pred)\n",
    "plt.figure(figsize=(6,4))\n",
    "sns.heatmap(cm, annot=True, fmt=\"d\", xticklabels=[\"neg\",\"pos\"], yticklabels=[\"neg\",\"pos\"], cmap=\"Blues\")\n",
    "plt.xlabel(\"Predicted\"); plt.ylabel(\"True\"); plt.title(\"Confusion Matrix: CNN Baseline\"); plt.show()"
   ]
  },
  {
   "cell_type": "markdown",
   "id": "8e3345b8",
   "metadata": {},
   "source": [
    "## Experiment 1: CNN Baseline (Conclusion)\n",
    "\n",
    "### Hypotheses was:\n",
    "A simple 1D Convolutional Neural Network (CNN) with an embedding layer should capture local patterns in text (e.g., short phrases like \"not good\" or \"really loved\") and provide a competitive baseline for sentiment classification.\n",
    "\n",
    "### Settings\n",
    "- Embedding Layer: vocab size = 20,000, embedding dimension = 128\n",
    "- Model Architecture: Conv1D -> GlobalMaxPooling -> Dense -> Dropout -> Dense output\n",
    "- Max Sequence Length: 200 tokens\n",
    "- Optimizer / Loss: Adam, binary crossentropy\n",
    "- Epochs: 5\n",
    "- Batch Size: 128\n",
    "\n",
    "### Results\n",
    "- Test Accuracy: 84.97%\n",
    "- Macro-F1: ~0.85\n",
    "- Confusion Matrix: balanced errors, but slightly more false negatives (pos reviews classigied as neg).\n",
    "\n",
    "### Interpretation\n",
    "- Performance is fairly strong for a first deep learning attempt, but lower than the TF-IDF + Linear SVM baseline (~90%).\n",
    "- This is expected: TF-IDF models are highly effective on the IMDB-style datasets, while CNN's often need more tuning or pretrained embeddings to surpass them.\n",
    "- The model confirms the pipeline works and sets a baseline for future improvements"
   ]
  },
  {
   "cell_type": "markdown",
   "id": "38e733ac",
   "metadata": {},
   "source": [
    "# Experiment 2: GRU"
   ]
  },
  {
   "cell_type": "code",
   "execution_count": 19,
   "id": "688140fd",
   "metadata": {},
   "outputs": [
    {
     "data": {
      "text/html": [
       "<pre style=\"white-space:pre;overflow-x:auto;line-height:normal;font-family:Menlo,'DejaVu Sans Mono',consolas,'Courier New',monospace\"><span style=\"font-weight: bold\">Model: \"sequential_1\"</span>\n",
       "</pre>\n"
      ],
      "text/plain": [
       "\u001b[1mModel: \"sequential_1\"\u001b[0m\n"
      ]
     },
     "metadata": {},
     "output_type": "display_data"
    },
    {
     "data": {
      "text/html": [
       "<pre style=\"white-space:pre;overflow-x:auto;line-height:normal;font-family:Menlo,'DejaVu Sans Mono',consolas,'Courier New',monospace\">┏━━━━━━━━━━━━━━━━━━━━━━━━━━━━━━━━━┳━━━━━━━━━━━━━━━━━━━━━━━━┳━━━━━━━━━━━━━━━┓\n",
       "┃<span style=\"font-weight: bold\"> Layer (type)                    </span>┃<span style=\"font-weight: bold\"> Output Shape           </span>┃<span style=\"font-weight: bold\">       Param # </span>┃\n",
       "┡━━━━━━━━━━━━━━━━━━━━━━━━━━━━━━━━━╇━━━━━━━━━━━━━━━━━━━━━━━━╇━━━━━━━━━━━━━━━┩\n",
       "│ embedding_1 (<span style=\"color: #0087ff; text-decoration-color: #0087ff\">Embedding</span>)         │ ?                      │   <span style=\"color: #00af00; text-decoration-color: #00af00\">0</span> (unbuilt) │\n",
       "├─────────────────────────────────┼────────────────────────┼───────────────┤\n",
       "│ bidirectional (<span style=\"color: #0087ff; text-decoration-color: #0087ff\">Bidirectional</span>)   │ ?                      │   <span style=\"color: #00af00; text-decoration-color: #00af00\">0</span> (unbuilt) │\n",
       "├─────────────────────────────────┼────────────────────────┼───────────────┤\n",
       "│ dropout_2 (<span style=\"color: #0087ff; text-decoration-color: #0087ff\">Dropout</span>)             │ ?                      │             <span style=\"color: #00af00; text-decoration-color: #00af00\">0</span> │\n",
       "├─────────────────────────────────┼────────────────────────┼───────────────┤\n",
       "│ dense_2 (<span style=\"color: #0087ff; text-decoration-color: #0087ff\">Dense</span>)                 │ ?                      │   <span style=\"color: #00af00; text-decoration-color: #00af00\">0</span> (unbuilt) │\n",
       "├─────────────────────────────────┼────────────────────────┼───────────────┤\n",
       "│ dropout_3 (<span style=\"color: #0087ff; text-decoration-color: #0087ff\">Dropout</span>)             │ ?                      │             <span style=\"color: #00af00; text-decoration-color: #00af00\">0</span> │\n",
       "├─────────────────────────────────┼────────────────────────┼───────────────┤\n",
       "│ dense_3 (<span style=\"color: #0087ff; text-decoration-color: #0087ff\">Dense</span>)                 │ ?                      │   <span style=\"color: #00af00; text-decoration-color: #00af00\">0</span> (unbuilt) │\n",
       "└─────────────────────────────────┴────────────────────────┴───────────────┘\n",
       "</pre>\n"
      ],
      "text/plain": [
       "┏━━━━━━━━━━━━━━━━━━━━━━━━━━━━━━━━━┳━━━━━━━━━━━━━━━━━━━━━━━━┳━━━━━━━━━━━━━━━┓\n",
       "┃\u001b[1m \u001b[0m\u001b[1mLayer (type)                   \u001b[0m\u001b[1m \u001b[0m┃\u001b[1m \u001b[0m\u001b[1mOutput Shape          \u001b[0m\u001b[1m \u001b[0m┃\u001b[1m \u001b[0m\u001b[1m      Param #\u001b[0m\u001b[1m \u001b[0m┃\n",
       "┡━━━━━━━━━━━━━━━━━━━━━━━━━━━━━━━━━╇━━━━━━━━━━━━━━━━━━━━━━━━╇━━━━━━━━━━━━━━━┩\n",
       "│ embedding_1 (\u001b[38;5;33mEmbedding\u001b[0m)         │ ?                      │   \u001b[38;5;34m0\u001b[0m (unbuilt) │\n",
       "├─────────────────────────────────┼────────────────────────┼───────────────┤\n",
       "│ bidirectional (\u001b[38;5;33mBidirectional\u001b[0m)   │ ?                      │   \u001b[38;5;34m0\u001b[0m (unbuilt) │\n",
       "├─────────────────────────────────┼────────────────────────┼───────────────┤\n",
       "│ dropout_2 (\u001b[38;5;33mDropout\u001b[0m)             │ ?                      │             \u001b[38;5;34m0\u001b[0m │\n",
       "├─────────────────────────────────┼────────────────────────┼───────────────┤\n",
       "│ dense_2 (\u001b[38;5;33mDense\u001b[0m)                 │ ?                      │   \u001b[38;5;34m0\u001b[0m (unbuilt) │\n",
       "├─────────────────────────────────┼────────────────────────┼───────────────┤\n",
       "│ dropout_3 (\u001b[38;5;33mDropout\u001b[0m)             │ ?                      │             \u001b[38;5;34m0\u001b[0m │\n",
       "├─────────────────────────────────┼────────────────────────┼───────────────┤\n",
       "│ dense_3 (\u001b[38;5;33mDense\u001b[0m)                 │ ?                      │   \u001b[38;5;34m0\u001b[0m (unbuilt) │\n",
       "└─────────────────────────────────┴────────────────────────┴───────────────┘\n"
      ]
     },
     "metadata": {},
     "output_type": "display_data"
    },
    {
     "data": {
      "text/html": [
       "<pre style=\"white-space:pre;overflow-x:auto;line-height:normal;font-family:Menlo,'DejaVu Sans Mono',consolas,'Courier New',monospace\"><span style=\"font-weight: bold\"> Total params: </span><span style=\"color: #00af00; text-decoration-color: #00af00\">0</span> (0.00 B)\n",
       "</pre>\n"
      ],
      "text/plain": [
       "\u001b[1m Total params: \u001b[0m\u001b[38;5;34m0\u001b[0m (0.00 B)\n"
      ]
     },
     "metadata": {},
     "output_type": "display_data"
    },
    {
     "data": {
      "text/html": [
       "<pre style=\"white-space:pre;overflow-x:auto;line-height:normal;font-family:Menlo,'DejaVu Sans Mono',consolas,'Courier New',monospace\"><span style=\"font-weight: bold\"> Trainable params: </span><span style=\"color: #00af00; text-decoration-color: #00af00\">0</span> (0.00 B)\n",
       "</pre>\n"
      ],
      "text/plain": [
       "\u001b[1m Trainable params: \u001b[0m\u001b[38;5;34m0\u001b[0m (0.00 B)\n"
      ]
     },
     "metadata": {},
     "output_type": "display_data"
    },
    {
     "data": {
      "text/html": [
       "<pre style=\"white-space:pre;overflow-x:auto;line-height:normal;font-family:Menlo,'DejaVu Sans Mono',consolas,'Courier New',monospace\"><span style=\"font-weight: bold\"> Non-trainable params: </span><span style=\"color: #00af00; text-decoration-color: #00af00\">0</span> (0.00 B)\n",
       "</pre>\n"
      ],
      "text/plain": [
       "\u001b[1m Non-trainable params: \u001b[0m\u001b[38;5;34m0\u001b[0m (0.00 B)\n"
      ]
     },
     "metadata": {},
     "output_type": "display_data"
    }
   ],
   "source": [
    "# Define and Compile the GRU\n",
    "\n",
    "gru_model = models.Sequential([\n",
    "    layers.Embedding(input_dim=vocab_size, output_dim=embed_dim),\n",
    "    layers.Bidirectional(layers.GRU(128, return_sequences=False)),\n",
    "    layers.Dropout(0.5),\n",
    "    layers.Dense(64, activation='relu'),\n",
    "    layers.Dropout(0.5),\n",
    "    layers.Dense(1, activation='sigmoid')\n",
    "])\n",
    "\n",
    "gru_model.compile(\n",
    "    optimizer=optimizers.Adam(learning_rate=1e-3),\n",
    "    loss=\"binary_crossentropy\",\n",
    "    metrics=[\"accuracy\"]\n",
    ")\n",
    "\n",
    "gru_model.summary()"
   ]
  },
  {
   "cell_type": "code",
   "execution_count": 20,
   "id": "c1bd61c5",
   "metadata": {},
   "outputs": [
    {
     "name": "stdout",
     "output_type": "stream",
     "text": [
      "Epoch 1/12\n",
      "\u001b[1m176/176\u001b[0m \u001b[32m━━━━━━━━━━━━━━━━━━━━\u001b[0m\u001b[37m\u001b[0m \u001b[1m39s\u001b[0m 211ms/step - accuracy: 0.6408 - loss: 0.6139 - val_accuracy: 0.7796 - val_loss: 0.4550\n",
      "Epoch 2/12\n",
      "\u001b[1m176/176\u001b[0m \u001b[32m━━━━━━━━━━━━━━━━━━━━\u001b[0m\u001b[37m\u001b[0m \u001b[1m50s\u001b[0m 284ms/step - accuracy: 0.8621 - loss: 0.3432 - val_accuracy: 0.8380 - val_loss: 0.4190\n",
      "Epoch 3/12\n",
      "\u001b[1m176/176\u001b[0m \u001b[32m━━━━━━━━━━━━━━━━━━━━\u001b[0m\u001b[37m\u001b[0m \u001b[1m51s\u001b[0m 289ms/step - accuracy: 0.9179 - loss: 0.2296 - val_accuracy: 0.8316 - val_loss: 0.4447\n",
      "Epoch 4/12\n",
      "\u001b[1m176/176\u001b[0m \u001b[32m━━━━━━━━━━━━━━━━━━━━\u001b[0m\u001b[37m\u001b[0m \u001b[1m51s\u001b[0m 292ms/step - accuracy: 0.9216 - loss: 0.2109 - val_accuracy: 0.8176 - val_loss: 0.4779\n",
      "Epoch 5/12\n",
      "\u001b[1m176/176\u001b[0m \u001b[32m━━━━━━━━━━━━━━━━━━━━\u001b[0m\u001b[37m\u001b[0m \u001b[1m50s\u001b[0m 286ms/step - accuracy: 0.9460 - loss: 0.1489 - val_accuracy: 0.8420 - val_loss: 0.4774\n"
     ]
    }
   ],
   "source": [
    "# Train the model with early stopping and checkpoint\n",
    "\n",
    "es2 = callbacks.EarlyStopping(monitor=\"val_loss\", patience=3, restore_best_weights=True)\n",
    "ckpt2 = callbacks.ModelCheckpoint(\"../models/gru_baseline.keras\", monitor=\"val_loss\", save_best_only=True)\n",
    "\n",
    "history_gru = gru_model.fit(X_train_pad, ytr, validation_data=(X_val_pad, yval), batch_size=128, epochs=12, callbacks=[es2, ckpt2], verbose=1)"
   ]
  },
  {
   "cell_type": "markdown",
   "id": "65097a05",
   "metadata": {},
   "source": [
    "^ Forgot to time it, but with the built in Jupyter/VSCode timer, it says it ran for ***3 minutes and 15.0 seconds***"
   ]
  },
  {
   "cell_type": "code",
   "execution_count": 21,
   "id": "8adabaa7",
   "metadata": {},
   "outputs": [
    {
     "data": {
      "image/png": "[encoded data removed]",
      "text/plain": [
       "<Figure size 640x480 with 1 Axes>"
      ]
     },
     "metadata": {},
     "output_type": "display_data"
    }
   ],
   "source": [
    "# Plot the Learning Curves\n",
    "\n",
    "plt.figure()\n",
    "plt.plot(history_gru.history[\"loss\"], label=\"train_loss\")\n",
    "plt.plot(history_gru.history[\"val_loss\"], label=\"val_loss\")\n",
    "plt.xlabel(\"Epoch\"); plt.ylabel(\"Loss\"); plt.title(\"GRU Learning Curves\"); plt.legend(); plt.show()"
   ]
  },
  {
   "cell_type": "code",
   "execution_count": 22,
   "id": "3d027da1",
   "metadata": {},
   "outputs": [
    {
     "name": "stdout",
     "output_type": "stream",
     "text": [
      "Test accuracy: 83.13%\n",
      "              precision    recall  f1-score   support\n",
      "\n",
      "         neg       0.87      0.78      0.82     12500\n",
      "         pos       0.80      0.88      0.84     12500\n",
      "\n",
      "    accuracy                           0.83     25000\n",
      "   macro avg       0.83      0.83      0.83     25000\n",
      "weighted avg       0.83      0.83      0.83     25000\n",
      "\n"
     ]
    },
    {
     "data": {
      "image/png": "[encoded data removed]",
      "text/plain": [
       "<Figure size 600x400 with 2 Axes>"
      ]
     },
     "metadata": {},
     "output_type": "display_data"
    }
   ],
   "source": [
    "# Evaluate on the Test Set\n",
    "\n",
    "test_loss_2, test_acc_2 = gru_model.evaluate(X_test_pad, yte, verbose=0)\n",
    "print(f\"Test accuracy: {test_acc_2*100:.2f}%\")\n",
    "\n",
    "y_prob_2 = gru_model.predict(X_test_pad, verbose=0).ravel()\n",
    "y_pred_2 = (y_prob_2 >= 0.50).astype(int)\n",
    "\n",
    "# Classification Report\n",
    "print(classification_report(yte, y_pred_2, target_names=[\"neg\", \"pos\"]))\n",
    "\n",
    "# Confusion matrix\n",
    "cm2 = confusion_matrix(yte, y_pred_2)\n",
    "plt.figure(figsize=(6,4))\n",
    "sns.heatmap(cm2, annot=True, fmt=\"d\", cmap=\"Blues\", xticklabels=[\"neg\",\"pos\"], yticklabels=[\"neg\",\"pos\"])\n",
    "plt.xlabel(\"Predicted\"); plt.ylabel(\"True\"); plt.title(\"Confusion Matrix: GRU Baseline\"); plt.show()"
   ]
  },
  {
   "cell_type": "markdown",
   "id": "14081ae8",
   "metadata": {},
   "source": [
    "## Experiment 2: GRU (Conclusion)\n",
    "\n",
    "### Hypotheses was:\n",
    "Recurrent architectures like GRUs (Gated Recurrent Units) should capture sequential dependencies in text better than CNNs, potentially improving performance on sentiment classification.\n",
    "\n",
    "### Model Setup\n",
    "- **Tokenizer/Sequences**: Top 20k words, max length 200 tokens\n",
    "- **Embedding Layer**: Learned from scratch, embedding dim = 128\n",
    "- **GRU Layer**: 64 units\n",
    "- **Dense Output**: Sigmoid for binary classification\n",
    "- **Regularization**: Dropout layers applied to reduce overfitting\n",
    "- **Optimizer**: Adam, learning rate = 0.001\n",
    "- **Loss**: Binary Crossentropy\n",
    "\n",
    "### Results\n",
    "- **Test Accuracy**: 83.13%\n",
    "- **Classification Report**:\n",
    "  - Precision: 0.87 (neg), 0.80 (pos)\n",
    "  - Recall: 0.78 (neg), 0.88 (pos)\n",
    "  - F1-scores balanced around 0.82–0.84\n",
    "- **Confusion Matrix**: GRU predicts positive reviews more confidently, but misclassifies some negatives as positives.\n",
    "\n",
    "### Observations\n",
    "- The GRU baseline underperformed compared to the CNN baseline (~83% vs. ~85% accuracy).\n",
    "- Training showed clear overfitting: training loss decreased steadily, but validation loss plateaued and then increased after a few epochs.\n",
    "- GRU captured sequential dependencies but may require:\n",
    "  - More epochs (with careful early stopping)\n",
    "  - Pretrained embeddings (e.g., GloVe, Word2Vec)\n",
    "  - Larger hidden dimensions or stacked GRUs\n",
    "\n",
    "### Conclusion\n",
    "The GRU model demonstrates that recurrent networks can model text sequences, but for this dataset and setup, CNNs performed better. This suggests that local n-gram patterns (captured well by CNNs) may be more decisive than long-range dependencies for IMDB sentiment analysis."
   ]
  },
  {
   "cell_type": "markdown",
   "id": "b5062e84",
   "metadata": {},
   "source": [
    "# Experiment 3: DistilBERT"
   ]
  },
  {
   "cell_type": "code",
   "execution_count": 23,
   "id": "cdb5ac2b",
   "metadata": {},
   "outputs": [],
   "source": [
    "from transformers import set_seed\n",
    "set_seed(42)"
   ]
  },
  {
   "cell_type": "code",
   "execution_count": 24,
   "id": "a8792174",
   "metadata": {},
   "outputs": [
    {
     "name": "stdout",
     "output_type": "stream",
     "text": [
      "22500\n",
      "2500\n",
      "25000\n"
     ]
    }
   ],
   "source": [
    "# Prep the data for Hugging Face\n",
    "\n",
    "label_map = {\"neg\":0, \"pos\":1}\n",
    "hf_df = df[[\"review\", \"label\", \"split\"]].copy()\n",
    "hf_df[\"label\"] = hf_df[\"label\"].map(label_map)\n",
    "\n",
    "train_df_bert = hf_df[hf_df[\"split\"] == \"train\"][[\"review\", \"label\"]]\n",
    "test_df_bert = hf_df[hf_df[\"split\"] == \"test\"][[\"review\", \"label\"]]\n",
    "\n",
    "# Use 10% of train for validation (stratified)\n",
    "train_df_bert, val_df_bert = train_test_split(train_df_bert, test_size=0.10, stratify=train_df_bert[\"label\"], random_state=42)\n",
    "\n",
    "print(len(train_df_bert))\n",
    "print(len(val_df_bert))\n",
    "print(len(test_df_bert))"
   ]
  },
  {
   "cell_type": "code",
   "execution_count": 25,
   "id": "724148fd",
   "metadata": {},
   "outputs": [],
   "source": [
    "# Build HuggingFace Datasets\n",
    "\n",
    "ds_train_bert = Dataset.from_pandas(train_df_bert.reset_index(drop=True))\n",
    "ds_val_bert   = Dataset.from_pandas(val_df_bert.reset_index(drop=True))\n",
    "ds_test_bert  = Dataset.from_pandas(test_df_bert.reset_index(drop=True))"
   ]
  },
  {
   "cell_type": "code",
   "execution_count": 26,
   "id": "07866978",
   "metadata": {},
   "outputs": [
    {
     "name": "stderr",
     "output_type": "stream",
     "text": [
      "Map: 100%|██████████| 22500/22500 [00:02<00:00, 7796.27 examples/s]\n",
      "Map: 100%|██████████| 2500/2500 [00:00<00:00, 6848.38 examples/s]\n",
      "Map: 100%|██████████| 25000/25000 [00:03<00:00, 6923.21 examples/s]\n"
     ]
    },
    {
     "data": {
      "text/plain": [
       "['labels', 'input_ids', 'attention_mask']"
      ]
     },
     "execution_count": 26,
     "metadata": {},
     "output_type": "execute_result"
    }
   ],
   "source": [
    "# Tokenizer and tokenization function\n",
    "\n",
    "model_name = \"distilbert-base-uncased\"\n",
    "tokenizer_bert = AutoTokenizer.from_pretrained(model_name)\n",
    "\n",
    "max_len_bert = 256  # should work well\n",
    "\n",
    "def tokenize_batch_bert(batch):\n",
    "    return tokenizer_bert(\n",
    "        batch[\"review\"],\n",
    "        truncation=True,\n",
    "        max_length=max_len_bert,\n",
    "    )\n",
    "\n",
    "tok_train_bert = ds_train_bert.map(tokenize_batch_bert, batched=True, remove_columns=[\"review\"])\n",
    "tok_val_bert   = ds_val_bert.map(tokenize_batch_bert, batched=True, remove_columns=[\"review\"])\n",
    "tok_test_bert  = ds_test_bert.map(tokenize_batch_bert, batched=True, remove_columns=[\"review\"])\n",
    "\n",
    "# HF expects the label field to be named \"labels\"\n",
    "tok_train_bert = tok_train_bert.rename_columns({\"label\": \"labels\"})\n",
    "tok_val_bert   = tok_val_bert.rename_columns({\"label\": \"labels\"})\n",
    "tok_test_bert  = tok_test_bert.rename_columns({\"label\": \"labels\"})\n",
    "\n",
    "tok_train_bert.column_names  # sanity: should include input_ids, attention_mask, labels"
   ]
  },
  {
   "cell_type": "code",
   "execution_count": 27,
   "id": "7874e3b1",
   "metadata": {},
   "outputs": [
    {
     "name": "stderr",
     "output_type": "stream",
     "text": [
      "Some weights of DistilBertForSequenceClassification were not initialized from the model checkpoint at distilbert-base-uncased and are newly initialized: ['classifier.bias', 'classifier.weight', 'pre_classifier.bias', 'pre_classifier.weight']\n",
      "You should probably TRAIN this model on a down-stream task to be able to use it for predictions and inference.\n"
     ]
    }
   ],
   "source": [
    "# Data collator and model\n",
    "\n",
    "data_collator_bert = DataCollatorWithPadding(tokenizer=tokenizer_bert)\n",
    "\n",
    "bert_model = AutoModelForSequenceClassification.from_pretrained(model_name, num_labels=2)"
   ]
  },
  {
   "cell_type": "code",
   "execution_count": 28,
   "id": "8c2fc9a8",
   "metadata": {},
   "outputs": [
    {
     "name": "stderr",
     "output_type": "stream",
     "text": [
      "C:\\Users\\keele\\AppData\\Local\\Temp\\ipykernel_5792\\4284819077.py:34: FutureWarning: `tokenizer` is deprecated and will be removed in version 5.0.0 for `Trainer.__init__`. Use `processing_class` instead.\n",
      "  trainer_bert = Trainer(\n"
     ]
    }
   ],
   "source": [
    "# Trainer Setup\n",
    "\n",
    "use_bf16 = torch.cuda.is_available() and torch.cuda.is_bf16_supported()\n",
    "use_fp16 = torch.cuda.is_available() and not use_bf16  # fallback\n",
    "\n",
    "def compute_metrics_bert(eval_pred):\n",
    "    logits, labels = eval_pred\n",
    "    preds = np.argmax(logits, axis=1)\n",
    "    acc = accuracy_score(labels, preds)\n",
    "    prec, rec, f1, _ = precision_recall_fscore_support(labels, preds, average=\"binary\")\n",
    "    return {\"accuracy\": acc, \"precision\": prec, \"recall\": rec, \"f1\": f1}\n",
    "\n",
    "training_args_bert = TrainingArguments(\n",
    "    output_dir=\"../models/distilbert_runs\",\n",
    "    eval_strategy=\"epoch\",\n",
    "    save_strategy=\"epoch\",\n",
    "    load_best_model_at_end=True,\n",
    "    metric_for_best_model=\"f1\",\n",
    "    greater_is_better=True,\n",
    "    learning_rate=2e-5,\n",
    "    per_device_train_batch_size=16,   # if OOM, set 8\n",
    "    per_device_eval_batch_size=16,\n",
    "    num_train_epochs=3,               # can set 2 for a quick run\n",
    "    weight_decay=0.01,\n",
    "    warmup_ratio=0.1,\n",
    "    fp16=use_fp16,\n",
    "    bf16=use_bf16,\n",
    "    dataloader_pin_memory=True,\n",
    "    dataloader_num_workers=2,\n",
    "    report_to=\"none\",\n",
    "    optim=\"adamw_torch\",\n",
    ")\n",
    "\n",
    "trainer_bert = Trainer(\n",
    "    model=bert_model,\n",
    "    args=training_args_bert,\n",
    "    train_dataset=tok_train_bert,\n",
    "    eval_dataset=tok_val_bert,\n",
    "    tokenizer=tokenizer_bert,\n",
    "    data_collator=data_collator_bert,\n",
    "    compute_metrics=compute_metrics_bert,\n",
    ")\n"
   ]
  },
  {
   "cell_type": "code",
   "execution_count": 29,
   "id": "a94ff99a",
   "metadata": {},
   "outputs": [
    {
     "data": {
      "text/html": [
       "\n",
       "    <div>\n",
       "      \n",
       "      <progress value='4221' max='4221' style='width:300px; height:20px; vertical-align: middle;'></progress>\n",
       "      [4221/4221 04:16, Epoch 3/3]\n",
       "    </div>\n",
       "    <table border=\"1\" class=\"dataframe\">\n",
       "  <thead>\n",
       " <tr style=\"text-align: left;\">\n",
       "      <th>Epoch</th>\n",
       "      <th>Training Loss</th>\n",
       "      <th>Validation Loss</th>\n",
       "      <th>Accuracy</th>\n",
       "      <th>Precision</th>\n",
       "      <th>Recall</th>\n",
       "      <th>F1</th>\n",
       "    </tr>\n",
       "  </thead>\n",
       "  <tbody>\n",
       "    <tr>\n",
       "      <td>1</td>\n",
       "      <td>0.274100</td>\n",
       "      <td>0.287661</td>\n",
       "      <td>0.885200</td>\n",
       "      <td>0.843193</td>\n",
       "      <td>0.946400</td>\n",
       "      <td>0.891821</td>\n",
       "    </tr>\n",
       "    <tr>\n",
       "      <td>2</td>\n",
       "      <td>0.182600</td>\n",
       "      <td>0.310665</td>\n",
       "      <td>0.907200</td>\n",
       "      <td>0.900787</td>\n",
       "      <td>0.915200</td>\n",
       "      <td>0.907937</td>\n",
       "    </tr>\n",
       "    <tr>\n",
       "      <td>3</td>\n",
       "      <td>0.096600</td>\n",
       "      <td>0.366411</td>\n",
       "      <td>0.910400</td>\n",
       "      <td>0.906498</td>\n",
       "      <td>0.915200</td>\n",
       "      <td>0.910828</td>\n",
       "    </tr>\n",
       "  </tbody>\n",
       "</table><p>"
      ],
      "text/plain": [
       "<IPython.core.display.HTML object>"
      ]
     },
     "metadata": {},
     "output_type": "display_data"
    },
    {
     "data": {
      "text/html": [],
      "text/plain": [
       "<IPython.core.display.HTML object>"
      ]
     },
     "metadata": {},
     "output_type": "display_data"
    },
    {
     "name": "stdout",
     "output_type": "stream",
     "text": [
      "Validation: {'eval_loss': 0.36641058325767517, 'eval_accuracy': 0.9104, 'eval_precision': 0.9064976228209192, 'eval_recall': 0.9152, 'eval_f1': 0.910828025477707, 'eval_runtime': 12.6091, 'eval_samples_per_second': 198.269, 'eval_steps_per_second': 12.451, 'epoch': 3.0}\n"
     ]
    }
   ],
   "source": [
    "# Train\n",
    "train_result_bert = trainer_bert.train()\n",
    "\n",
    "# Validate\n",
    "val_metrics_bert  = trainer_bert.evaluate()\n",
    "print(\"Validation:\", val_metrics_bert)"
   ]
  },
  {
   "cell_type": "code",
   "execution_count": 30,
   "id": "8633482d",
   "metadata": {},
   "outputs": [
    {
     "name": "stdout",
     "output_type": "stream",
     "text": [
      "Test: {'eval_loss': 0.34612342715263367, 'eval_accuracy': 0.91428, 'eval_precision': 0.9077880148043153, 'eval_recall': 0.92224, 'eval_f1': 0.9149569427358228, 'eval_runtime': 27.593, 'eval_samples_per_second': 906.027, 'eval_steps_per_second': 56.645, 'epoch': 3.0}\n"
     ]
    }
   ],
   "source": [
    "# Test\n",
    "test_metrics_bert = trainer_bert.evaluate(eval_dataset=tok_test_bert)\n",
    "print(\"Test:\", test_metrics_bert)"
   ]
  },
  {
   "cell_type": "code",
   "execution_count": 31,
   "id": "724f2e0a",
   "metadata": {},
   "outputs": [
    {
     "data": {
      "image/png": "[encoded data removed]",
      "text/plain": [
       "<Figure size 600x400 with 2 Axes>"
      ]
     },
     "metadata": {},
     "output_type": "display_data"
    }
   ],
   "source": [
    "# Confusion Matrix\n",
    "preds_bert = trainer_bert.predict(tok_test_bert)\n",
    "y_true_bert = preds_bert.label_ids\n",
    "y_pred_bert = np.argmax(preds_bert.predictions, axis=1)\n",
    "\n",
    "cm_bert = confusion_matrix(y_true_bert, y_pred_bert)\n",
    "plt.figure(figsize=(6,4))\n",
    "sns.heatmap(cm_bert, annot=True, fmt=\"d\", cmap=\"Blues\", xticklabels=[\"neg\",\"pos\"], yticklabels=[\"neg\",\"pos\"])\n",
    "plt.xlabel(\"Predicted\"); plt.ylabel(\"True\"); plt.title(\"Confusion Matrix: DistilBERT\"); plt.show()"
   ]
  },
  {
   "cell_type": "code",
   "execution_count": 32,
   "id": "6f755012",
   "metadata": {},
   "outputs": [
    {
     "data": {
      "text/plain": [
       "('../models/distilbert_imdb\\\\tokenizer_config.json',\n",
       " '../models/distilbert_imdb\\\\special_tokens_map.json',\n",
       " '../models/distilbert_imdb\\\\vocab.txt',\n",
       " '../models/distilbert_imdb\\\\added_tokens.json',\n",
       " '../models/distilbert_imdb\\\\tokenizer.json')"
      ]
     },
     "execution_count": 32,
     "metadata": {},
     "output_type": "execute_result"
    }
   ],
   "source": [
    "# Save\n",
    "trainer_bert.save_model(\"../models/distilbert_imdb\")\n",
    "tokenizer_bert.save_pretrained(\"../models/distilbert_imdb\")"
   ]
  },
  {
   "cell_type": "markdown",
   "id": "77ef45f1",
   "metadata": {},
   "source": [
    "## Experiment 3: DistilBERT (Conclusion)\n",
    "\n",
    "In this experiment, we fine-tuned **DistilBERT**, a lightweight transformer model, for binary sentiment classification on the IMDB dataset. Unlike CNNs and GRUs, which learn representations from scratch, DistilBERT leverages pre-trained contextual embeddings, allowing it to capture nuanced meaning in text.\n",
    "\n",
    "### Training Setup\n",
    "- Model: `distilbert-base-uncased`\n",
    "- Tokenizer: Hugging Face `AutoTokenizer` with truncation at 128 tokens\n",
    "- Training epochs: 3\n",
    "- Batch size: 16 (train & eval)\n",
    "- Optimizer defaults from Hugging Face `Trainer`\n",
    "- Validation used for model selection (`load_best_model_at_end=True` with F1)\n",
    "\n",
    "### Results\n",
    "**Validation Metrics (Epoch 3):**\n",
    "- Accuracy: **91.04%**\n",
    "- Precision: **0.906**\n",
    "- Recall: **0.915**\n",
    "- F1-score: **0.911**\n",
    "\n",
    "**Test Metrics:**\n",
    "- Accuracy: **91.43%**\n",
    "- Precision: **0.908**\n",
    "- Recall: **0.922**\n",
    "- F1-score: **0.915**\n",
    "\n",
    "### Confusion Matrix (Test Set)\n",
    "- True Negatives: 11,329  \n",
    "- False Positives: 1,171  \n",
    "- False Negatives: 972  \n",
    "- True Positives: 11,528  \n",
    "\n",
    "The model demonstrated great compared to the baseline CNN and GRU models. DistilBERT achieved over **91% accuracy** and **0.915 F1-score**, outperforming earlier approaches. This confirms the effectiveness of transformer-based architectures in text classification tasks.\n",
    "\n",
    "DistilBERT (91.43% accuracy) outperformed the Linear SVM (90.16% accuracy), on only 3 epochs of fine tuning. Given the limited training time and minimal hyperparameter tuning, this result is very strong. With longer training, optimized hyperparameters, or larger models, even higher performance could likely be achieved."
   ]
  },
  {
   "cell_type": "markdown",
   "id": "84dfbd6d",
   "metadata": {},
   "source": [
    "# Final Accuracies\n",
    "\n",
    "### GRU: 83.13%\n",
    "### CNN: 84.97%\n",
    "### Linear SVM: 90.16%\n",
    "### DilstilBERT: 91.43%\n",
    "\n",
    "DistilBERT > SVM by ~1.3 pts; CNN/GRU behind."
   ]
  }
 ],
 "metadata": {
  "kernelspec": {
   "display_name": "Python 3",
   "language": "python",
   "name": "python3"
  },
  "language_info": {
   "codemirror_mode": {
    "name": "ipython",
    "version": 3
   },
   "file_extension": ".py",
   "mimetype": "text/x-python",
   "name": "python",
   "nbconvert_exporter": "python",
   "pygments_lexer": "ipython3",
   "version": "3.11.9"
  }
 },
 "nbformat": 4,
 "nbformat_minor": 5
}

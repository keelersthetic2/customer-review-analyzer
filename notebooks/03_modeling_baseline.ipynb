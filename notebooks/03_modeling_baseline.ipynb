{
 "cells": [
  {
   "cell_type": "markdown",
   "id": "40d41036",
   "metadata": {},
   "source": [
    "# Phase 3: Baseline Modeling\n",
    "\n",
    "In this notebook, I build baseline machine learning models for sentiment classifications using the cleaned IMDB dataset.\n",
    "\n",
    "**Objectives**\n",
    "- Convert test reviews into numeric features using Bag-of-Words and TF-IDF vectorization.\n",
    "- Train baseline models (Logistic Regression. Linear SVM, Naive Bayes.)\n",
    "- Evaluate models with accuracy, precision, recall, F1 score, and confusion matrices.\n",
    "- Compare Compare approaches to identify the strongest baseline before moving into deep learning models in the next phase.\n",
    "\n",
    "This will establish a reference performance that future, more complex models must beat."
   ]
  },
  {
   "cell_type": "code",
   "execution_count": 23,
   "id": "106275d4",
   "metadata": {},
   "outputs": [],
   "source": [
    "# Imports\n",
    "import pandas as pd\n",
    "from sklearn.feature_extraction.text import TfidfVectorizer\n",
    "from sklearn.linear_model import LogisticRegression\n",
    "from sklearn.svm import LinearSVC\n",
    "from sklearn.naive_bayes import MultinomialNB\n",
    "from sklearn.pipeline import Pipeline\n",
    "from sklearn.metrics import accuracy_score, classification_report, confusion_matrix\n",
    "import matplotlib.pyplot as plt\n",
    "import seaborn as sns\n",
    "import time"
   ]
  },
  {
   "cell_type": "code",
   "execution_count": null,
   "id": "8951c799",
   "metadata": {},
   "outputs": [
    {
     "name": "stdout",
     "output_type": "stream",
     "text": [
      "(50000, 5)\n"
     ]
    },
    {
     "data": {
      "text/html": [
       "<div>\n",
       "<style scoped>\n",
       "    .dataframe tbody tr th:only-of-type {\n",
       "        vertical-align: middle;\n",
       "    }\n",
       "\n",
       "    .dataframe tbody tr th {\n",
       "        vertical-align: top;\n",
       "    }\n",
       "\n",
       "    .dataframe thead th {\n",
       "        text-align: right;\n",
       "    }\n",
       "</style>\n",
       "<table border=\"1\" class=\"dataframe\">\n",
       "  <thead>\n",
       "    <tr style=\"text-align: right;\">\n",
       "      <th></th>\n",
       "      <th>review</th>\n",
       "      <th>label</th>\n",
       "      <th>split</th>\n",
       "      <th>word_count</th>\n",
       "      <th>tokens</th>\n",
       "    </tr>\n",
       "  </thead>\n",
       "  <tbody>\n",
       "    <tr>\n",
       "      <th>0</th>\n",
       "      <td>bromwell high is a cartoon comedy. it ran at t...</td>\n",
       "      <td>pos</td>\n",
       "      <td>train</td>\n",
       "      <td>140</td>\n",
       "      <td>['bromwell', 'high', 'is', 'a', 'cartoon', 'co...</td>\n",
       "    </tr>\n",
       "    <tr>\n",
       "      <th>1</th>\n",
       "      <td>homelessness (or houselessness as george carli...</td>\n",
       "      <td>pos</td>\n",
       "      <td>train</td>\n",
       "      <td>420</td>\n",
       "      <td>['homelessness', '(or', 'houselessness', 'as',...</td>\n",
       "    </tr>\n",
       "    <tr>\n",
       "      <th>2</th>\n",
       "      <td>brilliant over-acting by lesley ann warren. be...</td>\n",
       "      <td>pos</td>\n",
       "      <td>train</td>\n",
       "      <td>147</td>\n",
       "      <td>['brilliant', 'over-acting', 'by', 'lesley', '...</td>\n",
       "    </tr>\n",
       "    <tr>\n",
       "      <th>3</th>\n",
       "      <td>this is easily the most underrated film inn th...</td>\n",
       "      <td>pos</td>\n",
       "      <td>train</td>\n",
       "      <td>124</td>\n",
       "      <td>['this', 'is', 'easily', 'the', 'most', 'under...</td>\n",
       "    </tr>\n",
       "    <tr>\n",
       "      <th>4</th>\n",
       "      <td>this is not the typical mel brooks film. it wa...</td>\n",
       "      <td>pos</td>\n",
       "      <td>train</td>\n",
       "      <td>120</td>\n",
       "      <td>['this', 'is', 'not', 'the', 'typical', 'mel',...</td>\n",
       "    </tr>\n",
       "  </tbody>\n",
       "</table>\n",
       "</div>"
      ],
      "text/plain": [
       "                                              review label  split  word_count  \\\n",
       "0  bromwell high is a cartoon comedy. it ran at t...   pos  train         140   \n",
       "1  homelessness (or houselessness as george carli...   pos  train         420   \n",
       "2  brilliant over-acting by lesley ann warren. be...   pos  train         147   \n",
       "3  this is easily the most underrated film inn th...   pos  train         124   \n",
       "4  this is not the typical mel brooks film. it wa...   pos  train         120   \n",
       "\n",
       "                                              tokens  \n",
       "0  ['bromwell', 'high', 'is', 'a', 'cartoon', 'co...  \n",
       "1  ['homelessness', '(or', 'houselessness', 'as',...  \n",
       "2  ['brilliant', 'over-acting', 'by', 'lesley', '...  \n",
       "3  ['this', 'is', 'easily', 'the', 'most', 'under...  \n",
       "4  ['this', 'is', 'not', 'the', 'typical', 'mel',...  "
      ]
     },
     "execution_count": 2,
     "metadata": {},
     "output_type": "execute_result"
    }
   ],
   "source": [
    "# Load the cleaned csv\n",
    "df = pd.read_csv(\"../data/imdb_reviews_clean.csv\")\n",
    "print(df.shape)\n",
    "df.head(5)"
   ]
  },
  {
   "cell_type": "code",
   "execution_count": 3,
   "id": "921bff01",
   "metadata": {},
   "outputs": [
    {
     "name": "stdout",
     "output_type": "stream",
     "text": [
      "(25000, 5)\n",
      "(25000, 5)\n",
      "y_train value count: label\n",
      "pos    12500\n",
      "neg    12500\n",
      "Name: count, dtype: int64\n",
      "y_test value count: label\n",
      "pos    12500\n",
      "neg    12500\n",
      "Name: count, dtype: int64\n",
      "Random train review: in panic in the streets richard widmark plays u.s. navy doctor who has his week rudely interrupted w\n",
      "Label: pos\n",
      "Random test review: this movie is a pile of rubbish , and to try and base it the first is just a farce , the main thing \n",
      "Label: neg\n"
     ]
    }
   ],
   "source": [
    "# split the data frame into training and testing data\n",
    "train_df = df[df[\"split\"] == \"train\"]\n",
    "test_df = df[df[\"split\"] == \"test\"]\n",
    "\n",
    "print(train_df.shape)\n",
    "print(test_df.shape)\n",
    "\n",
    "X_train = train_df[\"review\"]\n",
    "y_train = train_df[\"label\"]\n",
    "X_test = test_df[\"review\"]\n",
    "y_test = test_df[\"label\"]\n",
    "\n",
    "print(f\"y_train value count: {y_train.value_counts()}\")\n",
    "print(f\"y_test value count: {y_test.value_counts()}\")\n",
    "\n",
    "# Random review print\n",
    "sample_train = train_df.sample(n=1, random_state=42)\n",
    "print(f\"Random train review: {sample_train['review'].values[0][:100]}\")\n",
    "print(f\"Label: {sample_train['label'].values[0]}\")\n",
    "\n",
    "sample_test = test_df.sample(n=1, random_state=99)\n",
    "print(f\"Random test review: {sample_test['review'].values[0][:100]}\")\n",
    "print(f\"Label: {sample_test['label'].values[0]}\")"
   ]
  },
  {
   "cell_type": "markdown",
   "id": "dab16f81",
   "metadata": {},
   "source": [
    "## Experiment 1: TF-IDF + Logistic Regression\n",
    "\n",
    "### Hypothesis\n",
    "TF-IDF with uni+bi-grams will outperform raw counts because it down-weights ubiquitous terms and highlights discriminative phrases.\n",
    "\n",
    "### Settings\n",
    "- Vectorizer: TF-IDF, n-grams (1,2), min_df=2, max_df=0.9\n",
    "- Model: Logistic Regression, C=1.0, solver=liblinear (or saga), random_state=42\n",
    "- Notes: keep default class weights first; revisit if imbalance emerges (it shouldn’t here).\n",
    "\n",
    "### Protocol (to avoid leakage)\n",
    "Fit TF-IDF only on train, evaluate on test via a single pipeline object.\n",
    "\n",
    "### What to capture\n",
    "- Train time (approx)\n",
    "- Test accuracy\n",
    "- Precision/Recall/F1 (per class + macro)\n",
    "- Confusion matrix\n",
    "- Brief summary\n",
    "\n",
    "### Pass/Fail Criteria\n",
    "Baseline target ≥ 85% accuracy. If below, inspect preprocessing/vectorizer params."
   ]
  },
  {
   "cell_type": "code",
   "execution_count": 6,
   "id": "5ff1b1d8",
   "metadata": {},
   "outputs": [],
   "source": [
    "# Make a Pipeline\n",
    "# tfidf applied TF-IDF with uni+bi-grams, ignores super-rare and overly common words\n",
    "# clf runs Logistic Regression with:\n",
    "#   standard regularization strength of 1.0\n",
    "#   liblinear solver for efficient binary classification\n",
    "#   random state set to 42 for reproducibility\n",
    "\n",
    "tfidf_lr = Pipeline([\n",
    "    (\"tfidf\", TfidfVectorizer(ngram_range=(1,2), min_df=2, max_df=0.9)),\n",
    "    (\"clf\", LogisticRegression(C=1.0, solver=\"liblinear\", random_state=42))\n",
    "])"
   ]
  },
  {
   "cell_type": "code",
   "execution_count": null,
   "id": "fdbc65f2",
   "metadata": {},
   "outputs": [
    {
     "name": "stdout",
     "output_type": "stream",
     "text": [
      "Time elapsed: 5.65 seconds.\n"
     ]
    }
   ],
   "source": [
    "# Fit the pipeline and record time to fit training data\n",
    "\n",
    "start_time = time.perf_counter()\n",
    "tfidf_lr.fit(X_train, y_train)\n",
    "end_time = time.perf_counter()\n",
    "time_elapsed = end_time-start_time\n",
    "\n",
    "print(f\"Time elapsed: {time_elapsed:.2f} seconds.\")"
   ]
  },
  {
   "cell_type": "code",
   "execution_count": 10,
   "id": "4efd9828",
   "metadata": {},
   "outputs": [],
   "source": [
    "# Predict\n",
    "Y_hat = tfidf_lr.predict(X_test)"
   ]
  },
  {
   "cell_type": "code",
   "execution_count": 11,
   "id": "d383e779",
   "metadata": {},
   "outputs": [
    {
     "name": "stdout",
     "output_type": "stream",
     "text": [
      "The accuracy (# of correct predictions / total # of predictions) is 89.10%.\n"
     ]
    }
   ],
   "source": [
    "# Show the accuracy of y vs yhat\n",
    "accuracy = accuracy_score(y_true=y_test, y_pred=Y_hat)\n",
    "print(f\"The accuracy (# of correct predictions / total # of predictions) is {accuracy*100:.2f}%.\")"
   ]
  },
  {
   "cell_type": "code",
   "execution_count": 12,
   "id": "796935a2",
   "metadata": {},
   "outputs": [
    {
     "name": "stdout",
     "output_type": "stream",
     "text": [
      "              precision    recall  f1-score   support\n",
      "\n",
      "         neg       0.89      0.89      0.89     12500\n",
      "         pos       0.89      0.90      0.89     12500\n",
      "\n",
      "    accuracy                           0.89     25000\n",
      "   macro avg       0.89      0.89      0.89     25000\n",
      "weighted avg       0.89      0.89      0.89     25000\n",
      "\n"
     ]
    }
   ],
   "source": [
    "# Classification Report:\n",
    "#   Precision -> Of all the reviews I predicted as positive, how many really were positive?\n",
    "#   Recall -> Of all the truly positive reviews, how many did I successfully find?\n",
    "#   F1 Score -> How well do precision and recall balance each other?\n",
    "\n",
    "class_rep = classification_report(y_true=y_test, y_pred=Y_hat)\n",
    "print(class_rep)"
   ]
  },
  {
   "cell_type": "code",
   "execution_count": 13,
   "id": "67cba43e",
   "metadata": {},
   "outputs": [
    {
     "name": "stdout",
     "output_type": "stream",
     "text": [
      "[[11079  1421]\n",
      " [ 1303 11197]]\n"
     ]
    }
   ],
   "source": [
    "# Confusion matrix\n",
    "cm = confusion_matrix(y_true=y_test, y_pred=Y_hat)\n",
    "print(cm)"
   ]
  },
  {
   "cell_type": "code",
   "execution_count": 14,
   "id": "7c2cf04e",
   "metadata": {},
   "outputs": [
    {
     "data": {
      "image/png": "[encoded data removed]",
      "text/plain": [
       "<Figure size 600x400 with 2 Axes>"
      ]
     },
     "metadata": {},
     "output_type": "display_data"
    }
   ],
   "source": [
    "# CM Heatmap\n",
    "plt.figure(figsize=(6,4))\n",
    "sns.heatmap(cm, annot=True, fmt=\"d\", cmap=\"Blues\", xticklabels=[\"neg\", \"pos\"], yticklabels=[\"neg\", \"pos\"])\n",
    "plt.xlabel(\"Predicted\")\n",
    "plt.ylabel(\"True\")\n",
    "plt.title(\"Confusion matrix: TF-IDF + Logistic Regression\")\n",
    "plt.show()"
   ]
  },
  {
   "cell_type": "markdown",
   "id": "0ffd561e",
   "metadata": {},
   "source": [
    "## Results: TF-IDF + Logistic Regression\n",
    "- Accuracy: 89.10%\n",
    "- Precision, Recall, F1: All balanced at 0.89 for both positive and negative classes\n",
    "- Confusion Matrix: 22,276 correctly classified reviews; 1421 false positives and 1303 false negatives.\n",
    "\n",
    "The errors are balanced showing the model does not favor one class.\n",
    "\n",
    "TF+IDF with uni+bi-grams combined with Logistic Regression provides a strong classical baseline for sentiment classification. The model is both accurate and balanced, handling positive and negative reviews equally well. This result is a solid benchmark to compare against deep learning apporaches in later experiments."
   ]
  },
  {
   "cell_type": "markdown",
   "id": "e2b3a751",
   "metadata": {},
   "source": [
    "## Experiment 2: Linear SVM"
   ]
  },
  {
   "cell_type": "code",
   "execution_count": 16,
   "id": "725db4dd",
   "metadata": {},
   "outputs": [],
   "source": [
    "# Pipeline with TF-IDF vectorization and LinearSVC classifier\n",
    "tfidf_lsvm = Pipeline([\n",
    "    (\"tfidf\", TfidfVectorizer(ngram_range=(1,2), min_df=2, max_df=0.9)),\n",
    "    (\"clf\", LinearSVC(random_state=42))\n",
    "])"
   ]
  },
  {
   "cell_type": "code",
   "execution_count": 17,
   "id": "a84b2045",
   "metadata": {},
   "outputs": [
    {
     "name": "stdout",
     "output_type": "stream",
     "text": [
      "Time elapsed: 5.42 seconds.\n"
     ]
    }
   ],
   "source": [
    "# Fit the pipeline and record time to fit training data\n",
    "\n",
    "start_time = time.perf_counter()\n",
    "tfidf_lsvm.fit(X_train, y_train)\n",
    "end_time = time.perf_counter()\n",
    "time_elapsed = end_time-start_time\n",
    "\n",
    "print(f\"Time elapsed: {time_elapsed:.2f} seconds.\")"
   ]
  },
  {
   "cell_type": "code",
   "execution_count": 18,
   "id": "1b417cbe",
   "metadata": {},
   "outputs": [],
   "source": [
    "# Predict\n",
    "Y_hat_lsvm = tfidf_lsvm.predict(X_test)"
   ]
  },
  {
   "cell_type": "code",
   "execution_count": null,
   "id": "d63a71f7",
   "metadata": {},
   "outputs": [
    {
     "name": "stdout",
     "output_type": "stream",
     "text": [
      "The accuracy (# of correct predictions / total # of predictions) is 90.16%.\n"
     ]
    }
   ],
   "source": [
    "# Show the accuracy of y vs yhat\n",
    "accuracy_lsvm = accuracy_score(y_true=y_test, y_pred=Y_hat_lsvm)\n",
    "print(f\"The accuracy (# of correct predictions / total # of predictions) is {accuracy_lsvm*100:.2f}%.\")"
   ]
  },
  {
   "cell_type": "code",
   "execution_count": 20,
   "id": "2140dd2c",
   "metadata": {},
   "outputs": [
    {
     "name": "stdout",
     "output_type": "stream",
     "text": [
      "              precision    recall  f1-score   support\n",
      "\n",
      "         neg       0.90      0.90      0.90     12500\n",
      "         pos       0.90      0.90      0.90     12500\n",
      "\n",
      "    accuracy                           0.90     25000\n",
      "   macro avg       0.90      0.90      0.90     25000\n",
      "weighted avg       0.90      0.90      0.90     25000\n",
      "\n"
     ]
    }
   ],
   "source": [
    "# Classification Report:\n",
    "\n",
    "class_rep_lsvm = classification_report(y_true=y_test, y_pred=Y_hat_lsvm)\n",
    "print(class_rep_lsvm)"
   ]
  },
  {
   "cell_type": "code",
   "execution_count": 21,
   "id": "43454542",
   "metadata": {},
   "outputs": [
    {
     "name": "stdout",
     "output_type": "stream",
     "text": [
      "[[11311  1189]\n",
      " [ 1271 11229]]\n"
     ]
    }
   ],
   "source": [
    "# Confusion matrix\n",
    "cm_lsvm = confusion_matrix(y_true=y_test, y_pred=Y_hat_lsvm)\n",
    "print(cm_lsvm)"
   ]
  },
  {
   "cell_type": "code",
   "execution_count": 22,
   "id": "f6615750",
   "metadata": {},
   "outputs": [
    {
     "data": {
      "image/png": "[encoded data removed]",
      "text/plain": [
       "<Figure size 600x400 with 2 Axes>"
      ]
     },
     "metadata": {},
     "output_type": "display_data"
    }
   ],
   "source": [
    "# CM Heatmap lsvm\n",
    "plt.figure(figsize=(6,4))\n",
    "sns.heatmap(cm_lsvm, annot=True, fmt=\"d\", cmap=\"Blues\", xticklabels=[\"neg\", \"pos\"], yticklabels=[\"neg\", \"pos\"])\n",
    "plt.xlabel(\"Predicted\")\n",
    "plt.ylabel(\"True\")\n",
    "plt.title(\"Confusion matrix: TF-IDF + Linear SVM\")\n",
    "plt.show()"
   ]
  },
  {
   "cell_type": "markdown",
   "id": "609d33c9",
   "metadata": {},
   "source": [
    "## Results: TF-IDF + Linear SVM\n",
    "\n",
    "- Accuracy: 90.16%\n",
    "- Precision, Recall, F1: All 0.90 for both positive and negative classes\n",
    "- Confusion Matrix: True Negatives: 11,311, False Positives: 1,189, False Negatives: 1,271, True Positives: 11,229\n",
    "\n",
    "Linear SVM improves upon Logistic Regression, pushing accuracy above 90%. Both classes are treated equally well, with balanced precision, recall, and F1 scores. The confusion matrix confirms balanced performance, with roughly equal false positives and false negatives. This result sets Linear SVM as the strongest classical baseline so far."
   ]
  },
  {
   "cell_type": "markdown",
   "id": "f4ed7cf5",
   "metadata": {},
   "source": [
    "## Experiment 3: TF-IDF + Multinomial Naive Bayes"
   ]
  },
  {
   "cell_type": "code",
   "execution_count": 24,
   "id": "2c4b8e8e",
   "metadata": {},
   "outputs": [],
   "source": [
    "# Pipeline with TF-IDF vectorization and Multinomal Naive Bayes classifier\n",
    "tfidf_mnb = Pipeline([\n",
    "    (\"tfidf\", TfidfVectorizer(ngram_range=(1,2), min_df=2, max_df=0.9)),\n",
    "    (\"clf\", MultinomialNB(alpha=1.0))\n",
    "])"
   ]
  },
  {
   "cell_type": "code",
   "execution_count": null,
   "id": "f757dd75",
   "metadata": {},
   "outputs": [
    {
     "name": "stdout",
     "output_type": "stream",
     "text": [
      "Time elapsed: 5.05 seconds.\n"
     ]
    }
   ],
   "source": [
    "# Fit the data\n",
    "start_time = time.perf_counter()\n",
    "tfidf_mnb.fit(X_train, y_train)\n",
    "end_time = time.perf_counter()\n",
    "print(f\"Time elapsed: {end_time-start_time:.2f} seconds.\")"
   ]
  },
  {
   "cell_type": "code",
   "execution_count": 26,
   "id": "4133b1e3",
   "metadata": {},
   "outputs": [],
   "source": [
    "# Predict\n",
    "Y_hat_mnb = tfidf_mnb.predict(X_test)"
   ]
  },
  {
   "cell_type": "code",
   "execution_count": 27,
   "id": "4c6f7fc0",
   "metadata": {},
   "outputs": [
    {
     "name": "stdout",
     "output_type": "stream",
     "text": [
      "The accuracy (# of correct predictions / total # of predictions) is 86.78%.\n"
     ]
    }
   ],
   "source": [
    "# Show the accuracy of y vs yhat\n",
    "accuracy_mnb = accuracy_score(y_true=y_test, y_pred=Y_hat_mnb)\n",
    "print(f\"The accuracy (# of correct predictions / total # of predictions) is {accuracy_mnb*100:.2f}%.\")"
   ]
  },
  {
   "cell_type": "code",
   "execution_count": 28,
   "id": "f3f99d4a",
   "metadata": {},
   "outputs": [
    {
     "name": "stdout",
     "output_type": "stream",
     "text": [
      "              precision    recall  f1-score   support\n",
      "\n",
      "         neg       0.84      0.91      0.87     12500\n",
      "         pos       0.90      0.83      0.86     12500\n",
      "\n",
      "    accuracy                           0.87     25000\n",
      "   macro avg       0.87      0.87      0.87     25000\n",
      "weighted avg       0.87      0.87      0.87     25000\n",
      "\n"
     ]
    }
   ],
   "source": [
    "# Classification Report:\n",
    "\n",
    "class_rep_mnb = classification_report(y_true=y_test, y_pred=Y_hat_mnb)\n",
    "print(class_rep_mnb)"
   ]
  },
  {
   "cell_type": "code",
   "execution_count": 29,
   "id": "6bdd4ce7",
   "metadata": {},
   "outputs": [
    {
     "name": "stdout",
     "output_type": "stream",
     "text": [
      "[[11362  1138]\n",
      " [ 2168 10332]]\n"
     ]
    }
   ],
   "source": [
    "# Confusion matrix\n",
    "cm_mnb = confusion_matrix(y_true=y_test, y_pred=Y_hat_mnb)\n",
    "print(cm_mnb)"
   ]
  },
  {
   "cell_type": "code",
   "execution_count": 30,
   "id": "359140b9",
   "metadata": {},
   "outputs": [
    {
     "data": {
      "image/png": "[encoded data removed]",
      "text/plain": [
       "<Figure size 600x400 with 2 Axes>"
      ]
     },
     "metadata": {},
     "output_type": "display_data"
    }
   ],
   "source": [
    "# CM Heatmap mnb\n",
    "plt.figure(figsize=(6,4))\n",
    "sns.heatmap(cm_mnb, annot=True, fmt=\"d\", cmap=\"Blues\", xticklabels=[\"neg\", \"pos\"], yticklabels=[\"neg\", \"pos\"])\n",
    "plt.xlabel(\"Predicted\")\n",
    "plt.ylabel(\"True\")\n",
    "plt.title(\"Confusion matrix: TF-IDF + Multinomial Naive Bayes\")\n",
    "plt.show()"
   ]
  },
  {
   "cell_type": "markdown",
   "id": "95b8a0eb",
   "metadata": {},
   "source": [
    "## Experiment 3: TF-IDF + Multinomial Naive Bayes\n",
    "\n",
    "### Hypothesis\n",
    "Naive Bayes should train very fast and perform reasonably well for text classification, since it assumes conditional independence of words. However, I expect it to underperform compared to Logistic Regression and Linear SVM because IMDB reviews involve nuanced word order and phrase interactions.\n",
    "\n",
    "### Results\n",
    "\n",
    "-Accuracy: 86.78%\n",
    "\n",
    "-Precision/Recall/F1: Negatives: Prec 0.84, Rec 0.91, F1 0.87 | Positives: Prec 0.90, Rec 0.83, F1 0.86\n",
    "\n",
    "-Confusion Matrix: Shows the model tends to miss positives more often (false negatives).\n",
    "\n",
    "-Train time: Extremely fast compared to LR/SVM.\n",
    "\n",
    "### Summary\n",
    "MNB is a strong lightweight baseline for text classification but fails to capture dependencies across words (e.g., negations like “not good”). As expected, its performance is weaker than Logistic Regression and SVM. Still, it validates that simple models can achieve nearly 87% accuracy on this dataset."
   ]
  },
  {
   "cell_type": "code",
   "execution_count": 32,
   "id": "876464b9",
   "metadata": {},
   "outputs": [
    {
     "data": {
      "text/html": [
       "<div>\n",
       "<style scoped>\n",
       "    .dataframe tbody tr th:only-of-type {\n",
       "        vertical-align: middle;\n",
       "    }\n",
       "\n",
       "    .dataframe tbody tr th {\n",
       "        vertical-align: top;\n",
       "    }\n",
       "\n",
       "    .dataframe thead th {\n",
       "        text-align: right;\n",
       "    }\n",
       "</style>\n",
       "<table border=\"1\" class=\"dataframe\">\n",
       "  <thead>\n",
       "    <tr style=\"text-align: right;\">\n",
       "      <th></th>\n",
       "      <th>Model</th>\n",
       "      <th>Accuracy %</th>\n",
       "      <th>Macro-F1</th>\n",
       "      <th>Train Time (s)</th>\n",
       "    </tr>\n",
       "  </thead>\n",
       "  <tbody>\n",
       "    <tr>\n",
       "      <th>1</th>\n",
       "      <td>TF-IDF + Linear SVM</td>\n",
       "      <td>90.16</td>\n",
       "      <td>0.901599</td>\n",
       "      <td>5.42</td>\n",
       "    </tr>\n",
       "    <tr>\n",
       "      <th>0</th>\n",
       "      <td>TF-IDF + Logistic Regression</td>\n",
       "      <td>89.10</td>\n",
       "      <td>0.891038</td>\n",
       "      <td>5.65</td>\n",
       "    </tr>\n",
       "    <tr>\n",
       "      <th>2</th>\n",
       "      <td>TF-IDF + Multinomial NB</td>\n",
       "      <td>86.78</td>\n",
       "      <td>0.867535</td>\n",
       "      <td>5.05</td>\n",
       "    </tr>\n",
       "  </tbody>\n",
       "</table>\n",
       "</div>"
      ],
      "text/plain": [
       "                          Model  Accuracy %  Macro-F1  Train Time (s)\n",
       "1           TF-IDF + Linear SVM       90.16  0.901599            5.42\n",
       "0  TF-IDF + Logistic Regression       89.10  0.891038            5.65\n",
       "2       TF-IDF + Multinomial NB       86.78  0.867535            5.05"
      ]
     },
     "execution_count": 32,
     "metadata": {},
     "output_type": "execute_result"
    }
   ],
   "source": [
    "# Compare the experiments\n",
    "\n",
    "# Accuracies\n",
    "acc_lr   = 89.10\n",
    "acc_svm  = 90.16\n",
    "acc_nb   = 86.78\n",
    "\n",
    "# Macro-F1 from the reports\n",
    "f1_lr  = classification_report(y_test, Y_hat,       output_dict=True)[\"macro avg\"][\"f1-score\"]\n",
    "f1_svm = classification_report(y_test, Y_hat_lsvm,  output_dict=True)[\"macro avg\"][\"f1-score\"]\n",
    "f1_nb  = classification_report(y_test, Y_hat_mnb,   output_dict=True)[\"macro avg\"][\"f1-score\"]\n",
    "\n",
    "# Use your recorded train times\n",
    "time_lr  = 5.65\n",
    "time_svm = 5.42\n",
    "time_nb  = 5.05\n",
    "\n",
    "results = pd.DataFrame([\n",
    "    {\"Model\": \"TF-IDF + Logistic Regression\", \"Accuracy %\": acc_lr,  \"Macro-F1\": f1_lr,  \"Train Time (s)\": time_lr},\n",
    "    {\"Model\": \"TF-IDF + Linear SVM\",          \"Accuracy %\": acc_svm, \"Macro-F1\": f1_svm, \"Train Time (s)\": time_svm},\n",
    "    {\"Model\": \"TF-IDF + Multinomial NB\",      \"Accuracy %\": acc_nb,  \"Macro-F1\": f1_nb,  \"Train Time (s)\": time_nb},\n",
    "]).sort_values(\"Accuracy %\", ascending=False)\n",
    "\n",
    "results"
   ]
  },
  {
   "cell_type": "markdown",
   "id": "a4743d63",
   "metadata": {},
   "source": [
    "### Classical Baselines: Summary\n",
    "\n",
    "Across three classical models trained on TF-IDF features, **Linear SVM** achieved the best performance:\n",
    "\n",
    "- **Linear SVM:** 90.16% accuracy, macro-F1 ~ 0.90\n",
    "- **Logistic Regression:** 89.10% accuracy, macro-F1 ~ 0.89\n",
    "- **Multinomial Naive Bayes:** 86.78% accuracy, macro-F1 ~ 0.87 (fastest to train)\n",
    "\n",
    "**Takeaways**\n",
    "\n",
    "SVM and Logistic Regression perform very similarly on high-dimensional sparse text; SVM edged ahead by ~1pp, consistent with its large-margin optimization. Naive Bayes trains faster but underperforms due to its independence assumption, especially on phrases and negation.\n",
    "\n",
    "**Benchmark**\n",
    "\n",
    "We will treat **TF-IDF + Linear SVM (~90.16% accuracy)** as the baseline that any deep learning approach must beat."
   ]
  },
  {
   "cell_type": "markdown",
   "id": "a135d709",
   "metadata": {},
   "source": [
    "# End of Phase 3\n",
    "\n",
    "### Why I used TF-IDF and Logistic Regression, Linear SVM, Naive Bayes (MNB)\n",
    "- TF-IDF highlights discriminative words by down-weighting common ones, making it a strong baseline for text classification.\n",
    "- Naive Bayes (MNB): fast, probabilistic baseline for text.\n",
    "- Logistic Regression (LR): interpretable, robust, widely used with sparse features.\n",
    "- Linear SVM: strong classical benchmark, maximizes class separation margin\n",
    "\n",
    "Together, they provide complementary baselines: simple (MNB), reliable (LR), and strong performer (SVM)."
   ]
  }
 ],
 "metadata": {
  "kernelspec": {
   "display_name": "Python 3",
   "language": "python",
   "name": "python3"
  },
  "language_info": {
   "codemirror_mode": {
    "name": "ipython",
    "version": 3
   },
   "file_extension": ".py",
   "mimetype": "text/x-python",
   "name": "python",
   "nbconvert_exporter": "python",
   "pygments_lexer": "ipython3",
   "version": "3.11.9"
  }
 },
 "nbformat": 4,
 "nbformat_minor": 5
}
